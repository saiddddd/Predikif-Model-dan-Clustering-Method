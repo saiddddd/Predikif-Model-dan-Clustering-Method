{
 "cells": [
  {
   "cell_type": "markdown",
   "metadata": {},
   "source": [
    "# tinjauan data"
   ]
  },
  {
   "cell_type": "code",
   "execution_count": 39,
   "metadata": {},
   "outputs": [],
   "source": [
    "import numpy as np\n",
    "import pandas as pd\n",
    "import matplotlib.pyplot as plt\n",
    "import seaborn as sns\n",
    "from sklearn.cluster import KMeans \n",
    "from sklearn.datasets.samples_generator import make_blobs \n",
    "import pylab as pl\n",
    "%matplotlib inline\n",
    "import warnings\n",
    "warnings.filterwarnings('ignore')\n",
    "from sklearn.preprocessing import LabelEncoder"
   ]
  },
  {
   "cell_type": "code",
   "execution_count": 2,
   "metadata": {},
   "outputs": [
    {
     "data": {
      "text/html": [
       "<div>\n",
       "<style scoped>\n",
       "    .dataframe tbody tr th:only-of-type {\n",
       "        vertical-align: middle;\n",
       "    }\n",
       "\n",
       "    .dataframe tbody tr th {\n",
       "        vertical-align: top;\n",
       "    }\n",
       "\n",
       "    .dataframe thead th {\n",
       "        text-align: right;\n",
       "    }\n",
       "</style>\n",
       "<table border=\"1\" class=\"dataframe\">\n",
       "  <thead>\n",
       "    <tr style=\"text-align: right;\">\n",
       "      <th></th>\n",
       "      <th>Row ID</th>\n",
       "      <th>Order ID</th>\n",
       "      <th>Order Date</th>\n",
       "      <th>Ship Date</th>\n",
       "      <th>Ship Mode</th>\n",
       "      <th>Customer ID</th>\n",
       "      <th>Customer Name</th>\n",
       "      <th>Segment</th>\n",
       "      <th>City</th>\n",
       "      <th>State</th>\n",
       "      <th>...</th>\n",
       "      <th>Product ID</th>\n",
       "      <th>Category</th>\n",
       "      <th>Sub-Category</th>\n",
       "      <th>Product Name</th>\n",
       "      <th>Sales</th>\n",
       "      <th>Quantity</th>\n",
       "      <th>Discount</th>\n",
       "      <th>Profit</th>\n",
       "      <th>Shipping Cost</th>\n",
       "      <th>Order Priority</th>\n",
       "    </tr>\n",
       "  </thead>\n",
       "  <tbody>\n",
       "    <tr>\n",
       "      <th>0</th>\n",
       "      <td>32298</td>\n",
       "      <td>CA-2012-124891</td>\n",
       "      <td>2012-07-31</td>\n",
       "      <td>2012-07-31</td>\n",
       "      <td>Same Day</td>\n",
       "      <td>RH-19495</td>\n",
       "      <td>Rick Hansen</td>\n",
       "      <td>Consumer</td>\n",
       "      <td>New York City</td>\n",
       "      <td>New York</td>\n",
       "      <td>...</td>\n",
       "      <td>TEC-AC-10003033</td>\n",
       "      <td>Technology</td>\n",
       "      <td>Accessories</td>\n",
       "      <td>Plantronics CS510 - Over-the-Head monaural Wir...</td>\n",
       "      <td>2309.650</td>\n",
       "      <td>7</td>\n",
       "      <td>0.0</td>\n",
       "      <td>762.1845</td>\n",
       "      <td>933.57</td>\n",
       "      <td>Critical</td>\n",
       "    </tr>\n",
       "    <tr>\n",
       "      <th>1</th>\n",
       "      <td>26341</td>\n",
       "      <td>IN-2013-77878</td>\n",
       "      <td>2013-02-05</td>\n",
       "      <td>2013-02-07</td>\n",
       "      <td>Second Class</td>\n",
       "      <td>JR-16210</td>\n",
       "      <td>Justin Ritter</td>\n",
       "      <td>Corporate</td>\n",
       "      <td>Wollongong</td>\n",
       "      <td>New South Wales</td>\n",
       "      <td>...</td>\n",
       "      <td>FUR-CH-10003950</td>\n",
       "      <td>Furniture</td>\n",
       "      <td>Chairs</td>\n",
       "      <td>Novimex Executive Leather Armchair, Black</td>\n",
       "      <td>3709.395</td>\n",
       "      <td>9</td>\n",
       "      <td>0.1</td>\n",
       "      <td>-288.7650</td>\n",
       "      <td>923.63</td>\n",
       "      <td>Critical</td>\n",
       "    </tr>\n",
       "    <tr>\n",
       "      <th>2</th>\n",
       "      <td>25330</td>\n",
       "      <td>IN-2013-71249</td>\n",
       "      <td>2013-10-17</td>\n",
       "      <td>2013-10-18</td>\n",
       "      <td>First Class</td>\n",
       "      <td>CR-12730</td>\n",
       "      <td>Craig Reiter</td>\n",
       "      <td>Consumer</td>\n",
       "      <td>Brisbane</td>\n",
       "      <td>Queensland</td>\n",
       "      <td>...</td>\n",
       "      <td>TEC-PH-10004664</td>\n",
       "      <td>Technology</td>\n",
       "      <td>Phones</td>\n",
       "      <td>Nokia Smart Phone, with Caller ID</td>\n",
       "      <td>5175.171</td>\n",
       "      <td>9</td>\n",
       "      <td>0.1</td>\n",
       "      <td>919.9710</td>\n",
       "      <td>915.49</td>\n",
       "      <td>Medium</td>\n",
       "    </tr>\n",
       "  </tbody>\n",
       "</table>\n",
       "<p>3 rows × 24 columns</p>\n",
       "</div>"
      ],
      "text/plain": [
       "   Row ID        Order ID Order Date  Ship Date     Ship Mode Customer ID  \\\n",
       "0   32298  CA-2012-124891 2012-07-31 2012-07-31      Same Day    RH-19495   \n",
       "1   26341   IN-2013-77878 2013-02-05 2013-02-07  Second Class    JR-16210   \n",
       "2   25330   IN-2013-71249 2013-10-17 2013-10-18   First Class    CR-12730   \n",
       "\n",
       "   Customer Name    Segment           City            State  ...  \\\n",
       "0    Rick Hansen   Consumer  New York City         New York  ...   \n",
       "1  Justin Ritter  Corporate     Wollongong  New South Wales  ...   \n",
       "2   Craig Reiter   Consumer       Brisbane       Queensland  ...   \n",
       "\n",
       "        Product ID    Category Sub-Category  \\\n",
       "0  TEC-AC-10003033  Technology  Accessories   \n",
       "1  FUR-CH-10003950   Furniture       Chairs   \n",
       "2  TEC-PH-10004664  Technology       Phones   \n",
       "\n",
       "                                        Product Name     Sales Quantity  \\\n",
       "0  Plantronics CS510 - Over-the-Head monaural Wir...  2309.650        7   \n",
       "1          Novimex Executive Leather Armchair, Black  3709.395        9   \n",
       "2                  Nokia Smart Phone, with Caller ID  5175.171        9   \n",
       "\n",
       "  Discount    Profit  Shipping Cost  Order Priority  \n",
       "0      0.0  762.1845         933.57        Critical  \n",
       "1      0.1 -288.7650         923.63        Critical  \n",
       "2      0.1  919.9710         915.49          Medium  \n",
       "\n",
       "[3 rows x 24 columns]"
      ]
     },
     "execution_count": 2,
     "metadata": {},
     "output_type": "execute_result"
    }
   ],
   "source": [
    "data=pd.read_excel('Dataset Global Superstore.xlsx')\n",
    "data.head(3)"
   ]
  },
  {
   "cell_type": "code",
   "execution_count": null,
   "metadata": {},
   "outputs": [],
   "source": []
  },
  {
   "cell_type": "code",
   "execution_count": 3,
   "metadata": {},
   "outputs": [
    {
     "data": {
      "text/plain": [
       "array(['Consumer', 'Corporate', 'Home Office'], dtype=object)"
      ]
     },
     "execution_count": 3,
     "metadata": {},
     "output_type": "execute_result"
    }
   ],
   "source": [
    "data.Segment.unique()"
   ]
  },
  {
   "cell_type": "code",
   "execution_count": null,
   "metadata": {},
   "outputs": [],
   "source": []
  },
  {
   "cell_type": "code",
   "execution_count": null,
   "metadata": {},
   "outputs": [],
   "source": []
  },
  {
   "cell_type": "code",
   "execution_count": 4,
   "metadata": {},
   "outputs": [
    {
     "data": {
      "text/plain": [
       "(51290, 24)"
      ]
     },
     "execution_count": 4,
     "metadata": {},
     "output_type": "execute_result"
    }
   ],
   "source": [
    "data.shape"
   ]
  },
  {
   "cell_type": "code",
   "execution_count": 5,
   "metadata": {},
   "outputs": [
    {
     "data": {
      "text/plain": [
       "Row ID                0\n",
       "Order ID              0\n",
       "Order Date            0\n",
       "Ship Date             0\n",
       "Ship Mode             0\n",
       "Customer ID           0\n",
       "Customer Name         0\n",
       "Segment               0\n",
       "City                  0\n",
       "State                 0\n",
       "Country               0\n",
       "Postal Code       41296\n",
       "Market                0\n",
       "Region                0\n",
       "Product ID            0\n",
       "Category              0\n",
       "Sub-Category          0\n",
       "Product Name          0\n",
       "Sales                 0\n",
       "Quantity              0\n",
       "Discount              0\n",
       "Profit                0\n",
       "Shipping Cost         0\n",
       "Order Priority        0\n",
       "dtype: int64"
      ]
     },
     "execution_count": 5,
     "metadata": {},
     "output_type": "execute_result"
    }
   ],
   "source": [
    "data.isnull().sum()"
   ]
  },
  {
   "cell_type": "code",
   "execution_count": 6,
   "metadata": {},
   "outputs": [
    {
     "data": {
      "text/plain": [
       "Row ID                     int64\n",
       "Order ID                  object\n",
       "Order Date        datetime64[ns]\n",
       "Ship Date         datetime64[ns]\n",
       "Ship Mode                 object\n",
       "Customer ID               object\n",
       "Customer Name             object\n",
       "Segment                   object\n",
       "City                      object\n",
       "State                     object\n",
       "Country                   object\n",
       "Postal Code              float64\n",
       "Market                    object\n",
       "Region                    object\n",
       "Product ID                object\n",
       "Category                  object\n",
       "Sub-Category              object\n",
       "Product Name              object\n",
       "Sales                    float64\n",
       "Quantity                   int64\n",
       "Discount                 float64\n",
       "Profit                   float64\n",
       "Shipping Cost            float64\n",
       "Order Priority            object\n",
       "dtype: object"
      ]
     },
     "execution_count": 6,
     "metadata": {},
     "output_type": "execute_result"
    }
   ],
   "source": [
    "data.dtypes"
   ]
  },
  {
   "cell_type": "code",
   "execution_count": 7,
   "metadata": {},
   "outputs": [],
   "source": [
    "data = data.drop('Row ID',axis=1)"
   ]
  },
  {
   "cell_type": "markdown",
   "metadata": {},
   "source": [
    "# filter hanya untuk Segment : Consumer"
   ]
  },
  {
   "cell_type": "code",
   "execution_count": 8,
   "metadata": {},
   "outputs": [
    {
     "data": {
      "text/plain": [
       "United States    9994\n",
       "Australia        2837\n",
       "France           2827\n",
       "Mexico           2644\n",
       "Germany          2065\n",
       "                 ... \n",
       "Bahrain             2\n",
       "Chad                2\n",
       "Burundi             2\n",
       "Swaziland           2\n",
       "South Sudan         2\n",
       "Name: Country, Length: 147, dtype: int64"
      ]
     },
     "execution_count": 8,
     "metadata": {},
     "output_type": "execute_result"
    }
   ],
   "source": [
    "data['Country'].value_counts()"
   ]
  },
  {
   "cell_type": "code",
   "execution_count": 9,
   "metadata": {},
   "outputs": [
    {
     "data": {
      "text/html": [
       "<div>\n",
       "<style scoped>\n",
       "    .dataframe tbody tr th:only-of-type {\n",
       "        vertical-align: middle;\n",
       "    }\n",
       "\n",
       "    .dataframe tbody tr th {\n",
       "        vertical-align: top;\n",
       "    }\n",
       "\n",
       "    .dataframe thead th {\n",
       "        text-align: right;\n",
       "    }\n",
       "</style>\n",
       "<table border=\"1\" class=\"dataframe\">\n",
       "  <thead>\n",
       "    <tr style=\"text-align: right;\">\n",
       "      <th></th>\n",
       "      <th>Order ID</th>\n",
       "      <th>Order Date</th>\n",
       "      <th>Ship Date</th>\n",
       "      <th>Ship Mode</th>\n",
       "      <th>Customer ID</th>\n",
       "      <th>Customer Name</th>\n",
       "      <th>Segment</th>\n",
       "      <th>City</th>\n",
       "      <th>State</th>\n",
       "      <th>Country</th>\n",
       "      <th>...</th>\n",
       "      <th>Product ID</th>\n",
       "      <th>Category</th>\n",
       "      <th>Sub-Category</th>\n",
       "      <th>Product Name</th>\n",
       "      <th>Sales</th>\n",
       "      <th>Quantity</th>\n",
       "      <th>Discount</th>\n",
       "      <th>Profit</th>\n",
       "      <th>Shipping Cost</th>\n",
       "      <th>Order Priority</th>\n",
       "    </tr>\n",
       "  </thead>\n",
       "  <tbody>\n",
       "    <tr>\n",
       "      <th>0</th>\n",
       "      <td>CA-2012-124891</td>\n",
       "      <td>2012-07-31</td>\n",
       "      <td>2012-07-31</td>\n",
       "      <td>Same Day</td>\n",
       "      <td>RH-19495</td>\n",
       "      <td>Rick Hansen</td>\n",
       "      <td>Consumer</td>\n",
       "      <td>New York City</td>\n",
       "      <td>New York</td>\n",
       "      <td>United States</td>\n",
       "      <td>...</td>\n",
       "      <td>TEC-AC-10003033</td>\n",
       "      <td>Technology</td>\n",
       "      <td>Accessories</td>\n",
       "      <td>Plantronics CS510 - Over-the-Head monaural Wir...</td>\n",
       "      <td>2309.650</td>\n",
       "      <td>7</td>\n",
       "      <td>0.0</td>\n",
       "      <td>762.1845</td>\n",
       "      <td>933.57</td>\n",
       "      <td>Critical</td>\n",
       "    </tr>\n",
       "    <tr>\n",
       "      <th>2</th>\n",
       "      <td>IN-2013-71249</td>\n",
       "      <td>2013-10-17</td>\n",
       "      <td>2013-10-18</td>\n",
       "      <td>First Class</td>\n",
       "      <td>CR-12730</td>\n",
       "      <td>Craig Reiter</td>\n",
       "      <td>Consumer</td>\n",
       "      <td>Brisbane</td>\n",
       "      <td>Queensland</td>\n",
       "      <td>Australia</td>\n",
       "      <td>...</td>\n",
       "      <td>TEC-PH-10004664</td>\n",
       "      <td>Technology</td>\n",
       "      <td>Phones</td>\n",
       "      <td>Nokia Smart Phone, with Caller ID</td>\n",
       "      <td>5175.171</td>\n",
       "      <td>9</td>\n",
       "      <td>0.1</td>\n",
       "      <td>919.9710</td>\n",
       "      <td>915.49</td>\n",
       "      <td>Medium</td>\n",
       "    </tr>\n",
       "    <tr>\n",
       "      <th>4</th>\n",
       "      <td>SG-2013-4320</td>\n",
       "      <td>2013-11-05</td>\n",
       "      <td>2013-11-06</td>\n",
       "      <td>Same Day</td>\n",
       "      <td>RH-9495</td>\n",
       "      <td>Rick Hansen</td>\n",
       "      <td>Consumer</td>\n",
       "      <td>Dakar</td>\n",
       "      <td>Dakar</td>\n",
       "      <td>Senegal</td>\n",
       "      <td>...</td>\n",
       "      <td>TEC-SHA-10000501</td>\n",
       "      <td>Technology</td>\n",
       "      <td>Copiers</td>\n",
       "      <td>Sharp Wireless Fax, High-Speed</td>\n",
       "      <td>2832.960</td>\n",
       "      <td>8</td>\n",
       "      <td>0.0</td>\n",
       "      <td>311.5200</td>\n",
       "      <td>903.04</td>\n",
       "      <td>Critical</td>\n",
       "    </tr>\n",
       "    <tr>\n",
       "      <th>6</th>\n",
       "      <td>IN-2011-81826</td>\n",
       "      <td>2011-11-07</td>\n",
       "      <td>2011-11-09</td>\n",
       "      <td>First Class</td>\n",
       "      <td>TS-21340</td>\n",
       "      <td>Toby Swindell</td>\n",
       "      <td>Consumer</td>\n",
       "      <td>Porirua</td>\n",
       "      <td>Wellington</td>\n",
       "      <td>New Zealand</td>\n",
       "      <td>...</td>\n",
       "      <td>FUR-CH-10004050</td>\n",
       "      <td>Furniture</td>\n",
       "      <td>Chairs</td>\n",
       "      <td>Novimex Executive Leather Armchair, Adjustable</td>\n",
       "      <td>1822.080</td>\n",
       "      <td>4</td>\n",
       "      <td>0.0</td>\n",
       "      <td>564.8400</td>\n",
       "      <td>894.77</td>\n",
       "      <td>Critical</td>\n",
       "    </tr>\n",
       "  </tbody>\n",
       "</table>\n",
       "<p>4 rows × 23 columns</p>\n",
       "</div>"
      ],
      "text/plain": [
       "         Order ID Order Date  Ship Date    Ship Mode Customer ID  \\\n",
       "0  CA-2012-124891 2012-07-31 2012-07-31     Same Day    RH-19495   \n",
       "2   IN-2013-71249 2013-10-17 2013-10-18  First Class    CR-12730   \n",
       "4    SG-2013-4320 2013-11-05 2013-11-06     Same Day     RH-9495   \n",
       "6   IN-2011-81826 2011-11-07 2011-11-09  First Class    TS-21340   \n",
       "\n",
       "   Customer Name   Segment           City       State        Country  ...  \\\n",
       "0    Rick Hansen  Consumer  New York City    New York  United States  ...   \n",
       "2   Craig Reiter  Consumer       Brisbane  Queensland      Australia  ...   \n",
       "4    Rick Hansen  Consumer          Dakar       Dakar        Senegal  ...   \n",
       "6  Toby Swindell  Consumer        Porirua  Wellington    New Zealand  ...   \n",
       "\n",
       "         Product ID    Category Sub-Category  \\\n",
       "0   TEC-AC-10003033  Technology  Accessories   \n",
       "2   TEC-PH-10004664  Technology       Phones   \n",
       "4  TEC-SHA-10000501  Technology      Copiers   \n",
       "6   FUR-CH-10004050   Furniture       Chairs   \n",
       "\n",
       "                                        Product Name     Sales Quantity  \\\n",
       "0  Plantronics CS510 - Over-the-Head monaural Wir...  2309.650        7   \n",
       "2                  Nokia Smart Phone, with Caller ID  5175.171        9   \n",
       "4                     Sharp Wireless Fax, High-Speed  2832.960        8   \n",
       "6     Novimex Executive Leather Armchair, Adjustable  1822.080        4   \n",
       "\n",
       "  Discount    Profit  Shipping Cost  Order Priority  \n",
       "0      0.0  762.1845         933.57        Critical  \n",
       "2      0.1  919.9710         915.49          Medium  \n",
       "4      0.0  311.5200         903.04        Critical  \n",
       "6      0.0  564.8400         894.77        Critical  \n",
       "\n",
       "[4 rows x 23 columns]"
      ]
     },
     "execution_count": 9,
     "metadata": {},
     "output_type": "execute_result"
    }
   ],
   "source": [
    "data = data[data['Segment'] == 'Consumer']\n",
    "data.head(4)"
   ]
  },
  {
   "cell_type": "markdown",
   "metadata": {},
   "source": [
    "diperhatikan bahwa United States merupakan Country dengan penjualan terbanyak, untuk simplicity diambil Country == 'United States'"
   ]
  },
  {
   "cell_type": "code",
   "execution_count": 10,
   "metadata": {},
   "outputs": [],
   "source": [
    "data = data[data['Country'] == 'United States']"
   ]
  },
  {
   "cell_type": "code",
   "execution_count": 11,
   "metadata": {},
   "outputs": [
    {
     "data": {
      "text/html": [
       "<div>\n",
       "<style scoped>\n",
       "    .dataframe tbody tr th:only-of-type {\n",
       "        vertical-align: middle;\n",
       "    }\n",
       "\n",
       "    .dataframe tbody tr th {\n",
       "        vertical-align: top;\n",
       "    }\n",
       "\n",
       "    .dataframe thead th {\n",
       "        text-align: right;\n",
       "    }\n",
       "</style>\n",
       "<table border=\"1\" class=\"dataframe\">\n",
       "  <thead>\n",
       "    <tr style=\"text-align: right;\">\n",
       "      <th></th>\n",
       "      <th>Order ID</th>\n",
       "      <th>Order Date</th>\n",
       "      <th>Ship Date</th>\n",
       "      <th>Ship Mode</th>\n",
       "      <th>Customer ID</th>\n",
       "      <th>Customer Name</th>\n",
       "      <th>Segment</th>\n",
       "      <th>City</th>\n",
       "      <th>State</th>\n",
       "      <th>Country</th>\n",
       "      <th>...</th>\n",
       "      <th>Product ID</th>\n",
       "      <th>Category</th>\n",
       "      <th>Sub-Category</th>\n",
       "      <th>Product Name</th>\n",
       "      <th>Sales</th>\n",
       "      <th>Quantity</th>\n",
       "      <th>Discount</th>\n",
       "      <th>Profit</th>\n",
       "      <th>Shipping Cost</th>\n",
       "      <th>Order Priority</th>\n",
       "    </tr>\n",
       "  </thead>\n",
       "  <tbody>\n",
       "    <tr>\n",
       "      <th>0</th>\n",
       "      <td>CA-2012-124891</td>\n",
       "      <td>2012-07-31</td>\n",
       "      <td>2012-07-31</td>\n",
       "      <td>Same Day</td>\n",
       "      <td>RH-19495</td>\n",
       "      <td>Rick Hansen</td>\n",
       "      <td>Consumer</td>\n",
       "      <td>New York City</td>\n",
       "      <td>New York</td>\n",
       "      <td>United States</td>\n",
       "      <td>...</td>\n",
       "      <td>TEC-AC-10003033</td>\n",
       "      <td>Technology</td>\n",
       "      <td>Accessories</td>\n",
       "      <td>Plantronics CS510 - Over-the-Head monaural Wir...</td>\n",
       "      <td>2309.650</td>\n",
       "      <td>7</td>\n",
       "      <td>0.0</td>\n",
       "      <td>762.1845</td>\n",
       "      <td>933.57</td>\n",
       "      <td>Critical</td>\n",
       "    </tr>\n",
       "    <tr>\n",
       "      <th>9</th>\n",
       "      <td>CA-2012-116638</td>\n",
       "      <td>2012-01-28</td>\n",
       "      <td>2012-01-31</td>\n",
       "      <td>Second Class</td>\n",
       "      <td>JH-15985</td>\n",
       "      <td>Joseph Holt</td>\n",
       "      <td>Consumer</td>\n",
       "      <td>Concord</td>\n",
       "      <td>North Carolina</td>\n",
       "      <td>United States</td>\n",
       "      <td>...</td>\n",
       "      <td>FUR-TA-10000198</td>\n",
       "      <td>Furniture</td>\n",
       "      <td>Tables</td>\n",
       "      <td>Chromcraft Bull-Nose Wood Oval Conference Tabl...</td>\n",
       "      <td>4297.644</td>\n",
       "      <td>13</td>\n",
       "      <td>0.4</td>\n",
       "      <td>-1862.3124</td>\n",
       "      <td>865.74</td>\n",
       "      <td>Critical</td>\n",
       "    </tr>\n",
       "    <tr>\n",
       "      <th>21</th>\n",
       "      <td>CA-2011-154627</td>\n",
       "      <td>2011-10-29</td>\n",
       "      <td>2011-10-31</td>\n",
       "      <td>First Class</td>\n",
       "      <td>SA-20830</td>\n",
       "      <td>Sue Ann Reed</td>\n",
       "      <td>Consumer</td>\n",
       "      <td>Chicago</td>\n",
       "      <td>Illinois</td>\n",
       "      <td>United States</td>\n",
       "      <td>...</td>\n",
       "      <td>TEC-PH-10001363</td>\n",
       "      <td>Technology</td>\n",
       "      <td>Phones</td>\n",
       "      <td>Apple iPhone 5S</td>\n",
       "      <td>2735.952</td>\n",
       "      <td>6</td>\n",
       "      <td>0.2</td>\n",
       "      <td>341.9940</td>\n",
       "      <td>752.51</td>\n",
       "      <td>High</td>\n",
       "    </tr>\n",
       "    <tr>\n",
       "      <th>32</th>\n",
       "      <td>CA-2012-139731</td>\n",
       "      <td>2012-10-15</td>\n",
       "      <td>2012-10-15</td>\n",
       "      <td>Same Day</td>\n",
       "      <td>JE-15745</td>\n",
       "      <td>Joel Eaton</td>\n",
       "      <td>Consumer</td>\n",
       "      <td>Amarillo</td>\n",
       "      <td>Texas</td>\n",
       "      <td>United States</td>\n",
       "      <td>...</td>\n",
       "      <td>FUR-CH-10002024</td>\n",
       "      <td>Furniture</td>\n",
       "      <td>Chairs</td>\n",
       "      <td>HON 5400 Series Task Chairs for Big and Tall</td>\n",
       "      <td>2453.430</td>\n",
       "      <td>5</td>\n",
       "      <td>0.3</td>\n",
       "      <td>-350.4900</td>\n",
       "      <td>690.42</td>\n",
       "      <td>High</td>\n",
       "    </tr>\n",
       "  </tbody>\n",
       "</table>\n",
       "<p>4 rows × 23 columns</p>\n",
       "</div>"
      ],
      "text/plain": [
       "          Order ID Order Date  Ship Date     Ship Mode Customer ID  \\\n",
       "0   CA-2012-124891 2012-07-31 2012-07-31      Same Day    RH-19495   \n",
       "9   CA-2012-116638 2012-01-28 2012-01-31  Second Class    JH-15985   \n",
       "21  CA-2011-154627 2011-10-29 2011-10-31   First Class    SA-20830   \n",
       "32  CA-2012-139731 2012-10-15 2012-10-15      Same Day    JE-15745   \n",
       "\n",
       "   Customer Name   Segment           City           State        Country  ...  \\\n",
       "0    Rick Hansen  Consumer  New York City        New York  United States  ...   \n",
       "9    Joseph Holt  Consumer        Concord  North Carolina  United States  ...   \n",
       "21  Sue Ann Reed  Consumer        Chicago        Illinois  United States  ...   \n",
       "32    Joel Eaton  Consumer       Amarillo           Texas  United States  ...   \n",
       "\n",
       "         Product ID    Category Sub-Category  \\\n",
       "0   TEC-AC-10003033  Technology  Accessories   \n",
       "9   FUR-TA-10000198   Furniture       Tables   \n",
       "21  TEC-PH-10001363  Technology       Phones   \n",
       "32  FUR-CH-10002024   Furniture       Chairs   \n",
       "\n",
       "                                         Product Name     Sales Quantity  \\\n",
       "0   Plantronics CS510 - Over-the-Head monaural Wir...  2309.650        7   \n",
       "9   Chromcraft Bull-Nose Wood Oval Conference Tabl...  4297.644       13   \n",
       "21                                    Apple iPhone 5S  2735.952        6   \n",
       "32       HON 5400 Series Task Chairs for Big and Tall  2453.430        5   \n",
       "\n",
       "   Discount     Profit  Shipping Cost  Order Priority  \n",
       "0       0.0   762.1845         933.57        Critical  \n",
       "9       0.4 -1862.3124         865.74        Critical  \n",
       "21      0.2   341.9940         752.51            High  \n",
       "32      0.3  -350.4900         690.42            High  \n",
       "\n",
       "[4 rows x 23 columns]"
      ]
     },
     "execution_count": 11,
     "metadata": {},
     "output_type": "execute_result"
    }
   ],
   "source": [
    "data.head(4)"
   ]
  },
  {
   "cell_type": "code",
   "execution_count": 12,
   "metadata": {},
   "outputs": [
    {
     "data": {
      "text/plain": [
       "Office Supplies    3127\n",
       "Furniture          1113\n",
       "Technology          951\n",
       "Name: Category, dtype: int64"
      ]
     },
     "execution_count": 12,
     "metadata": {},
     "output_type": "execute_result"
    }
   ],
   "source": [
    "data['Category'].value_counts()"
   ]
  },
  {
   "cell_type": "code",
   "execution_count": 13,
   "metadata": {},
   "outputs": [
    {
     "data": {
      "text/plain": [
       "Binders        780\n",
       "Paper          693\n",
       "Furnishings    494\n",
       "Phones         451\n",
       "Storage        450\n",
       "Art            428\n",
       "Accessories    408\n",
       "Chairs         329\n",
       "Appliances     244\n",
       "Labels         189\n",
       "Tables         159\n",
       "Bookcases      131\n",
       "Envelopes      129\n",
       "Fasteners      114\n",
       "Supplies       100\n",
       "Machines        57\n",
       "Copiers         35\n",
       "Name: Sub-Category, dtype: int64"
      ]
     },
     "execution_count": 13,
     "metadata": {},
     "output_type": "execute_result"
    }
   ],
   "source": [
    "data['Sub-Category'].value_counts()"
   ]
  },
  {
   "cell_type": "code",
   "execution_count": 14,
   "metadata": {},
   "outputs": [
    {
     "data": {
      "image/png": "[encoded data removed]",
      "text/plain": [
       "<Figure size 1152x576 with 1 Axes>"
      ]
     },
     "metadata": {
      "needs_background": "light"
     },
     "output_type": "display_data"
    }
   ],
   "source": [
    "plt.figure(figsize=(16,8))\n",
    "plt.bar('Sub-Category','Category',data=data,color='g')\n",
    "plt.title(\"Tinjauan Kategori Produk\")\n",
    "plt.xlabel(\"Sub-Category\")\n",
    "plt.ylabel(\"Category\")\n",
    "plt.show()"
   ]
  },
  {
   "cell_type": "code",
   "execution_count": 15,
   "metadata": {},
   "outputs": [
    {
     "data": {
      "image/png": "[encoded data removed]",
      "text/plain": [
       "<Figure size 432x288 with 1 Axes>"
      ]
     },
     "metadata": {
      "needs_background": "light"
     },
     "output_type": "display_data"
    }
   ],
   "source": [
    "data.groupby('Sub-Category')['Profit','Sales'].agg(['sum']).plot.bar()\n",
    "plt.title('Total Profit and Sales per Sub-Category')\n",
    "plt.show()"
   ]
  },
  {
   "cell_type": "code",
   "execution_count": 16,
   "metadata": {},
   "outputs": [
    {
     "data": {
      "text/plain": [
       "Staples                                                      115\n",
       "Storex Dura Pro Binders                                       13\n",
       "Avery Non-Stick Binders                                       11\n",
       "Logitech 910-002974 M325 Wireless Mouse for Web Scrolling     10\n",
       "KI Adjustable-Height Table                                    10\n",
       "                                                            ... \n",
       "Euro Pro Shark Stick Mini Vacuum                               1\n",
       "TOPS Money Receipt Book, Consecutively Numbered in Red,        1\n",
       "Epson Perfection V600 Photo Scanner                            1\n",
       "Lexmark X 9575 Professional All-in-One Color Printer           1\n",
       "2300 Heavy-Duty Transfer File Systems by Perma                 1\n",
       "Name: Product Name, Length: 1696, dtype: int64"
      ]
     },
     "execution_count": 16,
     "metadata": {},
     "output_type": "execute_result"
    }
   ],
   "source": [
    "data['Product Name'].value_counts()"
   ]
  },
  {
   "cell_type": "code",
   "execution_count": 17,
   "metadata": {},
   "outputs": [
    {
     "data": {
      "image/png": "[encoded data removed]",
      "text/plain": [
       "<Figure size 1080x576 with 1 Axes>"
      ]
     },
     "metadata": {
      "needs_background": "light"
     },
     "output_type": "display_data"
    }
   ],
   "source": [
    "plt.figure(figsize=(15,8))\n",
    "sns.countplot(x=\"Sub-Category\", hue=\"Region\", data=data)\n",
    "plt.show()"
   ]
  },
  {
   "cell_type": "code",
   "execution_count": 18,
   "metadata": {},
   "outputs": [
    {
     "data": {
      "text/plain": [
       "0     1547.4655\n",
       "9     6159.9564\n",
       "21    2393.9580\n",
       "32    2803.9200\n",
       "34    3475.4412\n",
       "Name: Cost, dtype: float64"
      ]
     },
     "execution_count": 18,
     "metadata": {},
     "output_type": "execute_result"
    }
   ],
   "source": [
    "data['Cost'] = data['Sales'] - data['Profit']\n",
    "data['Cost'].head()"
   ]
  },
  {
   "cell_type": "code",
   "execution_count": 19,
   "metadata": {},
   "outputs": [],
   "source": [
    "data['Profit %'] = (data['Profit']/data['Cost'])*100"
   ]
  },
  {
   "cell_type": "markdown",
   "metadata": {},
   "source": []
  },
  {
   "cell_type": "code",
   "execution_count": null,
   "metadata": {},
   "outputs": [],
   "source": []
  },
  {
   "cell_type": "code",
   "execution_count": 20,
   "metadata": {},
   "outputs": [
    {
     "data": {
      "text/html": [
       "<div>\n",
       "<style scoped>\n",
       "    .dataframe tbody tr th:only-of-type {\n",
       "        vertical-align: middle;\n",
       "    }\n",
       "\n",
       "    .dataframe tbody tr th {\n",
       "        vertical-align: top;\n",
       "    }\n",
       "\n",
       "    .dataframe thead th {\n",
       "        text-align: right;\n",
       "    }\n",
       "</style>\n",
       "<table border=\"1\" class=\"dataframe\">\n",
       "  <thead>\n",
       "    <tr style=\"text-align: right;\">\n",
       "      <th></th>\n",
       "      <th>Order ID</th>\n",
       "      <th>Order Date</th>\n",
       "      <th>Ship Date</th>\n",
       "      <th>Ship Mode</th>\n",
       "      <th>Customer ID</th>\n",
       "      <th>Customer Name</th>\n",
       "      <th>Segment</th>\n",
       "      <th>City</th>\n",
       "      <th>State</th>\n",
       "      <th>Country</th>\n",
       "      <th>...</th>\n",
       "      <th>Sub-Category</th>\n",
       "      <th>Product Name</th>\n",
       "      <th>Sales</th>\n",
       "      <th>Quantity</th>\n",
       "      <th>Discount</th>\n",
       "      <th>Profit</th>\n",
       "      <th>Shipping Cost</th>\n",
       "      <th>Order Priority</th>\n",
       "      <th>Cost</th>\n",
       "      <th>Profit %</th>\n",
       "    </tr>\n",
       "  </thead>\n",
       "  <tbody>\n",
       "    <tr>\n",
       "      <th>22220</th>\n",
       "      <td>CA-2013-135265</td>\n",
       "      <td>2013-07-08</td>\n",
       "      <td>2013-07-10</td>\n",
       "      <td>Second Class</td>\n",
       "      <td>CC-12370</td>\n",
       "      <td>Christopher Conant</td>\n",
       "      <td>Consumer</td>\n",
       "      <td>Los Angeles</td>\n",
       "      <td>California</td>\n",
       "      <td>United States</td>\n",
       "      <td>...</td>\n",
       "      <td>Paper</td>\n",
       "      <td>Xerox 1942</td>\n",
       "      <td>48.940</td>\n",
       "      <td>1</td>\n",
       "      <td>0.0</td>\n",
       "      <td>24.4700</td>\n",
       "      <td>10.36</td>\n",
       "      <td>Critical</td>\n",
       "      <td>24.4700</td>\n",
       "      <td>100.000000</td>\n",
       "    </tr>\n",
       "    <tr>\n",
       "      <th>31877</th>\n",
       "      <td>CA-2011-142769</td>\n",
       "      <td>2011-09-13</td>\n",
       "      <td>2011-09-13</td>\n",
       "      <td>Same Day</td>\n",
       "      <td>RP-19390</td>\n",
       "      <td>Resi Pölking</td>\n",
       "      <td>Consumer</td>\n",
       "      <td>Seattle</td>\n",
       "      <td>Washington</td>\n",
       "      <td>United States</td>\n",
       "      <td>...</td>\n",
       "      <td>Paper</td>\n",
       "      <td>Xerox 1942</td>\n",
       "      <td>48.940</td>\n",
       "      <td>1</td>\n",
       "      <td>0.0</td>\n",
       "      <td>24.4700</td>\n",
       "      <td>4.70</td>\n",
       "      <td>High</td>\n",
       "      <td>24.4700</td>\n",
       "      <td>100.000000</td>\n",
       "    </tr>\n",
       "    <tr>\n",
       "      <th>22255</th>\n",
       "      <td>CA-2014-145037</td>\n",
       "      <td>2014-09-03</td>\n",
       "      <td>2014-09-08</td>\n",
       "      <td>Second Class</td>\n",
       "      <td>TB-21055</td>\n",
       "      <td>Ted Butterfield</td>\n",
       "      <td>Consumer</td>\n",
       "      <td>Meriden</td>\n",
       "      <td>Connecticut</td>\n",
       "      <td>United States</td>\n",
       "      <td>...</td>\n",
       "      <td>Paper</td>\n",
       "      <td>Xerox 1890</td>\n",
       "      <td>146.820</td>\n",
       "      <td>3</td>\n",
       "      <td>0.0</td>\n",
       "      <td>73.4100</td>\n",
       "      <td>10.33</td>\n",
       "      <td>Medium</td>\n",
       "      <td>73.4100</td>\n",
       "      <td>100.000000</td>\n",
       "    </tr>\n",
       "    <tr>\n",
       "      <th>42079</th>\n",
       "      <td>CA-2014-150091</td>\n",
       "      <td>2014-10-13</td>\n",
       "      <td>2014-10-17</td>\n",
       "      <td>Standard Class</td>\n",
       "      <td>NP-18670</td>\n",
       "      <td>Nora Paige</td>\n",
       "      <td>Consumer</td>\n",
       "      <td>Lakewood</td>\n",
       "      <td>New Jersey</td>\n",
       "      <td>United States</td>\n",
       "      <td>...</td>\n",
       "      <td>Fasteners</td>\n",
       "      <td>OIC Colored Binder Clips, Assorted Sizes</td>\n",
       "      <td>17.900</td>\n",
       "      <td>5</td>\n",
       "      <td>0.0</td>\n",
       "      <td>8.7710</td>\n",
       "      <td>1.80</td>\n",
       "      <td>High</td>\n",
       "      <td>9.1290</td>\n",
       "      <td>96.078431</td>\n",
       "    </tr>\n",
       "    <tr>\n",
       "      <th>36281</th>\n",
       "      <td>CA-2013-150350</td>\n",
       "      <td>2013-08-24</td>\n",
       "      <td>2013-08-31</td>\n",
       "      <td>Standard Class</td>\n",
       "      <td>MS-17770</td>\n",
       "      <td>Maxwell Schwartz</td>\n",
       "      <td>Consumer</td>\n",
       "      <td>Seattle</td>\n",
       "      <td>Washington</td>\n",
       "      <td>United States</td>\n",
       "      <td>...</td>\n",
       "      <td>Paper</td>\n",
       "      <td>Xerox 1978</td>\n",
       "      <td>34.680</td>\n",
       "      <td>6</td>\n",
       "      <td>0.0</td>\n",
       "      <td>16.9932</td>\n",
       "      <td>3.21</td>\n",
       "      <td>Medium</td>\n",
       "      <td>17.6868</td>\n",
       "      <td>96.078431</td>\n",
       "    </tr>\n",
       "    <tr>\n",
       "      <th>...</th>\n",
       "      <td>...</td>\n",
       "      <td>...</td>\n",
       "      <td>...</td>\n",
       "      <td>...</td>\n",
       "      <td>...</td>\n",
       "      <td>...</td>\n",
       "      <td>...</td>\n",
       "      <td>...</td>\n",
       "      <td>...</td>\n",
       "      <td>...</td>\n",
       "      <td>...</td>\n",
       "      <td>...</td>\n",
       "      <td>...</td>\n",
       "      <td>...</td>\n",
       "      <td>...</td>\n",
       "      <td>...</td>\n",
       "      <td>...</td>\n",
       "      <td>...</td>\n",
       "      <td>...</td>\n",
       "      <td>...</td>\n",
       "      <td>...</td>\n",
       "    </tr>\n",
       "    <tr>\n",
       "      <th>51032</th>\n",
       "      <td>CA-2014-165099</td>\n",
       "      <td>2014-12-12</td>\n",
       "      <td>2014-12-14</td>\n",
       "      <td>First Class</td>\n",
       "      <td>DK-13375</td>\n",
       "      <td>Dennis Kane</td>\n",
       "      <td>Consumer</td>\n",
       "      <td>Abilene</td>\n",
       "      <td>Texas</td>\n",
       "      <td>United States</td>\n",
       "      <td>...</td>\n",
       "      <td>Appliances</td>\n",
       "      <td>Hoover Commercial Lightweight Upright Vacuum</td>\n",
       "      <td>1.392</td>\n",
       "      <td>2</td>\n",
       "      <td>0.8</td>\n",
       "      <td>-3.7584</td>\n",
       "      <td>0.14</td>\n",
       "      <td>High</td>\n",
       "      <td>5.1504</td>\n",
       "      <td>-72.972973</td>\n",
       "    </tr>\n",
       "    <tr>\n",
       "      <th>25579</th>\n",
       "      <td>US-2014-125647</td>\n",
       "      <td>2014-09-24</td>\n",
       "      <td>2014-09-29</td>\n",
       "      <td>Standard Class</td>\n",
       "      <td>LC-16870</td>\n",
       "      <td>Lena Cacioppo</td>\n",
       "      <td>Consumer</td>\n",
       "      <td>Chicago</td>\n",
       "      <td>Illinois</td>\n",
       "      <td>United States</td>\n",
       "      <td>...</td>\n",
       "      <td>Appliances</td>\n",
       "      <td>Euro Pro Shark Stick Mini Vacuum</td>\n",
       "      <td>73.176</td>\n",
       "      <td>6</td>\n",
       "      <td>0.8</td>\n",
       "      <td>-197.5752</td>\n",
       "      <td>7.83</td>\n",
       "      <td>Medium</td>\n",
       "      <td>270.7512</td>\n",
       "      <td>-72.972973</td>\n",
       "    </tr>\n",
       "    <tr>\n",
       "      <th>51114</th>\n",
       "      <td>US-2014-160836</td>\n",
       "      <td>2014-09-12</td>\n",
       "      <td>2014-09-17</td>\n",
       "      <td>Standard Class</td>\n",
       "      <td>CC-12475</td>\n",
       "      <td>Cindy Chapman</td>\n",
       "      <td>Consumer</td>\n",
       "      <td>Houston</td>\n",
       "      <td>Texas</td>\n",
       "      <td>United States</td>\n",
       "      <td>...</td>\n",
       "      <td>Appliances</td>\n",
       "      <td>Commercial WindTunnel Clean Air Upright Vacuum...</td>\n",
       "      <td>1.556</td>\n",
       "      <td>2</td>\n",
       "      <td>0.8</td>\n",
       "      <td>-4.2012</td>\n",
       "      <td>0.11</td>\n",
       "      <td>Medium</td>\n",
       "      <td>5.7572</td>\n",
       "      <td>-72.972973</td>\n",
       "    </tr>\n",
       "    <tr>\n",
       "      <th>48626</th>\n",
       "      <td>US-2014-119438</td>\n",
       "      <td>2014-03-19</td>\n",
       "      <td>2014-03-24</td>\n",
       "      <td>Standard Class</td>\n",
       "      <td>CD-11980</td>\n",
       "      <td>Carol Darley</td>\n",
       "      <td>Consumer</td>\n",
       "      <td>Tyler</td>\n",
       "      <td>Texas</td>\n",
       "      <td>United States</td>\n",
       "      <td>...</td>\n",
       "      <td>Appliances</td>\n",
       "      <td>Hoover Portapower Portable Vacuum</td>\n",
       "      <td>2.688</td>\n",
       "      <td>3</td>\n",
       "      <td>0.8</td>\n",
       "      <td>-7.3920</td>\n",
       "      <td>0.62</td>\n",
       "      <td>High</td>\n",
       "      <td>10.0800</td>\n",
       "      <td>-73.333333</td>\n",
       "    </tr>\n",
       "    <tr>\n",
       "      <th>43242</th>\n",
       "      <td>CA-2012-164007</td>\n",
       "      <td>2012-06-08</td>\n",
       "      <td>2012-06-12</td>\n",
       "      <td>Standard Class</td>\n",
       "      <td>MG-17695</td>\n",
       "      <td>Maureen Gnade</td>\n",
       "      <td>Consumer</td>\n",
       "      <td>Chicago</td>\n",
       "      <td>Illinois</td>\n",
       "      <td>United States</td>\n",
       "      <td>...</td>\n",
       "      <td>Appliances</td>\n",
       "      <td>Hoover Shoulder Vac Commercial Portable Vacuum</td>\n",
       "      <td>143.128</td>\n",
       "      <td>2</td>\n",
       "      <td>0.8</td>\n",
       "      <td>-393.6020</td>\n",
       "      <td>1.56</td>\n",
       "      <td>Medium</td>\n",
       "      <td>536.7300</td>\n",
       "      <td>-73.333333</td>\n",
       "    </tr>\n",
       "  </tbody>\n",
       "</table>\n",
       "<p>1910 rows × 25 columns</p>\n",
       "</div>"
      ],
      "text/plain": [
       "             Order ID Order Date  Ship Date       Ship Mode Customer ID  \\\n",
       "22220  CA-2013-135265 2013-07-08 2013-07-10    Second Class    CC-12370   \n",
       "31877  CA-2011-142769 2011-09-13 2011-09-13        Same Day    RP-19390   \n",
       "22255  CA-2014-145037 2014-09-03 2014-09-08    Second Class    TB-21055   \n",
       "42079  CA-2014-150091 2014-10-13 2014-10-17  Standard Class    NP-18670   \n",
       "36281  CA-2013-150350 2013-08-24 2013-08-31  Standard Class    MS-17770   \n",
       "...               ...        ...        ...             ...         ...   \n",
       "51032  CA-2014-165099 2014-12-12 2014-12-14     First Class    DK-13375   \n",
       "25579  US-2014-125647 2014-09-24 2014-09-29  Standard Class    LC-16870   \n",
       "51114  US-2014-160836 2014-09-12 2014-09-17  Standard Class    CC-12475   \n",
       "48626  US-2014-119438 2014-03-19 2014-03-24  Standard Class    CD-11980   \n",
       "43242  CA-2012-164007 2012-06-08 2012-06-12  Standard Class    MG-17695   \n",
       "\n",
       "            Customer Name   Segment         City        State        Country  \\\n",
       "22220  Christopher Conant  Consumer  Los Angeles   California  United States   \n",
       "31877        Resi Pölking  Consumer      Seattle   Washington  United States   \n",
       "22255     Ted Butterfield  Consumer      Meriden  Connecticut  United States   \n",
       "42079          Nora Paige  Consumer     Lakewood   New Jersey  United States   \n",
       "36281    Maxwell Schwartz  Consumer      Seattle   Washington  United States   \n",
       "...                   ...       ...          ...          ...            ...   \n",
       "51032         Dennis Kane  Consumer      Abilene        Texas  United States   \n",
       "25579       Lena Cacioppo  Consumer      Chicago     Illinois  United States   \n",
       "51114       Cindy Chapman  Consumer      Houston        Texas  United States   \n",
       "48626        Carol Darley  Consumer        Tyler        Texas  United States   \n",
       "43242       Maureen Gnade  Consumer      Chicago     Illinois  United States   \n",
       "\n",
       "       ...  Sub-Category                                       Product Name  \\\n",
       "22220  ...         Paper                                         Xerox 1942   \n",
       "31877  ...         Paper                                         Xerox 1942   \n",
       "22255  ...         Paper                                         Xerox 1890   \n",
       "42079  ...     Fasteners           OIC Colored Binder Clips, Assorted Sizes   \n",
       "36281  ...         Paper                                         Xerox 1978   \n",
       "...    ...           ...                                                ...   \n",
       "51032  ...    Appliances       Hoover Commercial Lightweight Upright Vacuum   \n",
       "25579  ...    Appliances                   Euro Pro Shark Stick Mini Vacuum   \n",
       "51114  ...    Appliances  Commercial WindTunnel Clean Air Upright Vacuum...   \n",
       "48626  ...    Appliances                  Hoover Portapower Portable Vacuum   \n",
       "43242  ...    Appliances     Hoover Shoulder Vac Commercial Portable Vacuum   \n",
       "\n",
       "         Sales Quantity Discount    Profit Shipping Cost  Order Priority  \\\n",
       "22220   48.940        1      0.0   24.4700         10.36        Critical   \n",
       "31877   48.940        1      0.0   24.4700          4.70            High   \n",
       "22255  146.820        3      0.0   73.4100         10.33          Medium   \n",
       "42079   17.900        5      0.0    8.7710          1.80            High   \n",
       "36281   34.680        6      0.0   16.9932          3.21          Medium   \n",
       "...        ...      ...      ...       ...           ...             ...   \n",
       "51032    1.392        2      0.8   -3.7584          0.14            High   \n",
       "25579   73.176        6      0.8 -197.5752          7.83          Medium   \n",
       "51114    1.556        2      0.8   -4.2012          0.11          Medium   \n",
       "48626    2.688        3      0.8   -7.3920          0.62            High   \n",
       "43242  143.128        2      0.8 -393.6020          1.56          Medium   \n",
       "\n",
       "           Cost    Profit %  \n",
       "22220   24.4700  100.000000  \n",
       "31877   24.4700  100.000000  \n",
       "22255   73.4100  100.000000  \n",
       "42079    9.1290   96.078431  \n",
       "36281   17.6868   96.078431  \n",
       "...         ...         ...  \n",
       "51032    5.1504  -72.972973  \n",
       "25579  270.7512  -72.972973  \n",
       "51114    5.7572  -72.972973  \n",
       "48626   10.0800  -73.333333  \n",
       "43242  536.7300  -73.333333  \n",
       "\n",
       "[1910 rows x 25 columns]"
      ]
     },
     "execution_count": 20,
     "metadata": {},
     "output_type": "execute_result"
    }
   ],
   "source": [
    "data.sort_values(['Profit %','Product Name'],ascending=False).groupby('Profit %').head(3)"
   ]
  },
  {
   "cell_type": "code",
   "execution_count": 21,
   "metadata": {},
   "outputs": [
    {
     "data": {
      "text/plain": [
       "William Brown          37\n",
       "John Lee               34\n",
       "Chloris Kastensmidt    32\n",
       "Seth Vernon            32\n",
       "Emily Phan             31\n",
       "Zuschuss Carroll       31\n",
       "Arthur Prichep         31\n",
       "Lena Cacioppo          30\n",
       "Greg Tran              29\n",
       "Ken Lonsdale           29\n",
       "Name: Customer Name, dtype: int64"
      ]
     },
     "execution_count": 21,
     "metadata": {},
     "output_type": "execute_result"
    }
   ],
   "source": [
    "customer_top10=data['Customer Name'].value_counts().head(10)\n",
    "customer_top10"
   ]
  },
  {
   "cell_type": "code",
   "execution_count": 22,
   "metadata": {},
   "outputs": [
    {
     "data": {
      "image/png": "[encoded data removed]",
      "text/plain": [
       "<Figure size 720x576 with 1 Axes>"
      ]
     },
     "metadata": {
      "needs_background": "light"
     },
     "output_type": "display_data"
    }
   ],
   "source": [
    "fig=plt.figure(figsize=(10,8))\n",
    "ax = fig.add_subplot(111)\n",
    "s=sns.countplot('Segment', data = data)\n",
    "for s in ax.patches:\n",
    "    ax.annotate('{:.0f}'.format(s.get_height()), (s.get_x()+0.15, s.get_height()+1))\n",
    "plt.show()"
   ]
  },
  {
   "cell_type": "code",
   "execution_count": 23,
   "metadata": {},
   "outputs": [
    {
     "data": {
      "image/png": "[encoded data removed]",
      "text/plain": [
       "<Figure size 720x432 with 1 Axes>"
      ]
     },
     "metadata": {
      "needs_background": "light"
     },
     "output_type": "display_data"
    }
   ],
   "source": [
    "#top 10 customers\n",
    "sortedTop10 = data.sort_values(['Profit'], ascending=False).head(20)\n",
    "fig = plt.figure(figsize=(10,6))\n",
    "ax = fig.add_subplot(111)\n",
    "p = sns.barplot(x='Customer Name', y='Profit',hue='State',palette='Set1', data=sortedTop10, ax=ax)\n",
    "ax.set_title(\"Top 10 profitable Customers\")\n",
    "ax.set_xticklabels(p.get_xticklabels(), rotation=75)\n",
    "plt.tight_layout()\n",
    "plt.show()"
   ]
  },
  {
   "cell_type": "code",
   "execution_count": 24,
   "metadata": {},
   "outputs": [
    {
     "data": {
      "text/plain": [
       "0        0\n",
       "9        3\n",
       "21       2\n",
       "32       0\n",
       "34       2\n",
       "        ..\n",
       "51257    3\n",
       "51269    1\n",
       "51270    5\n",
       "51277    5\n",
       "51286    4\n",
       "Name: Shipment Duration, Length: 5191, dtype: int64"
      ]
     },
     "execution_count": 24,
     "metadata": {},
     "output_type": "execute_result"
    }
   ],
   "source": [
    "data['Shipment Duration']=(pd.to_datetime(data['Ship Date'])-pd.to_datetime(data['Order Date'])).dt.days\n",
    "data['Shipment Duration']"
   ]
  },
  {
   "cell_type": "code",
   "execution_count": 25,
   "metadata": {},
   "outputs": [],
   "source": [
    "def agg_customer(x):\n",
    "    d = []\n",
    "    d.append(x['Order ID'].count())\n",
    "    d.append(x['Sales'].sum())\n",
    "    d.append(x['Profit %'].mean())\n",
    "    d.append(pd.to_datetime(x['Order Date']).min())\n",
    "    d.append(pd.to_datetime(x['Order Date']).max())\n",
    "    d.append(x['Product Name'].unique())\n",
    "    d.append(x['City'].unique())\n",
    "    return pd.Series(d, index=['#Purchases','Total_Sales','Average Profit % gained','First_Purchase_Date','Latest_Purchase_Date','Products Purchased','Location_Count'])"
   ]
  },
  {
   "cell_type": "code",
   "execution_count": 26,
   "metadata": {},
   "outputs": [
    {
     "data": {
      "text/html": [
       "<div>\n",
       "<style scoped>\n",
       "    .dataframe tbody tr th:only-of-type {\n",
       "        vertical-align: middle;\n",
       "    }\n",
       "\n",
       "    .dataframe tbody tr th {\n",
       "        vertical-align: top;\n",
       "    }\n",
       "\n",
       "    .dataframe thead th {\n",
       "        text-align: right;\n",
       "    }\n",
       "</style>\n",
       "<table border=\"1\" class=\"dataframe\">\n",
       "  <thead>\n",
       "    <tr style=\"text-align: right;\">\n",
       "      <th></th>\n",
       "      <th>#Purchases</th>\n",
       "      <th>Total_Sales</th>\n",
       "      <th>Average Profit % gained</th>\n",
       "      <th>First_Purchase_Date</th>\n",
       "      <th>Latest_Purchase_Date</th>\n",
       "      <th>Products Purchased</th>\n",
       "      <th>Location_Count</th>\n",
       "    </tr>\n",
       "    <tr>\n",
       "      <th>Customer ID</th>\n",
       "      <th></th>\n",
       "      <th></th>\n",
       "      <th></th>\n",
       "      <th></th>\n",
       "      <th></th>\n",
       "      <th></th>\n",
       "      <th></th>\n",
       "    </tr>\n",
       "  </thead>\n",
       "  <tbody>\n",
       "    <tr>\n",
       "      <th>AA-10315</th>\n",
       "      <td>11</td>\n",
       "      <td>5563.560</td>\n",
       "      <td>44.527461</td>\n",
       "      <td>2011-03-31</td>\n",
       "      <td>2014-06-30</td>\n",
       "      <td>[High Speed Automatic Electric Letter Opener, ...</td>\n",
       "      <td>[Round Rock, San Francisco, Minneapolis, New Y...</td>\n",
       "    </tr>\n",
       "    <tr>\n",
       "      <th>AA-10375</th>\n",
       "      <td>15</td>\n",
       "      <td>1056.390</td>\n",
       "      <td>52.349415</td>\n",
       "      <td>2011-04-21</td>\n",
       "      <td>2014-12-12</td>\n",
       "      <td>[Logitech diNovo Edge Keyboard, Kensington Sli...</td>\n",
       "      <td>[Atlanta, Omaha, New York City, Lebanon, Provi...</td>\n",
       "    </tr>\n",
       "    <tr>\n",
       "      <th>AA-10480</th>\n",
       "      <td>12</td>\n",
       "      <td>1790.512</td>\n",
       "      <td>55.580242</td>\n",
       "      <td>2011-05-04</td>\n",
       "      <td>2014-04-16</td>\n",
       "      <td>[Hon 4060 Series Tables, NETGEAR AC1750 Dual B...</td>\n",
       "      <td>[Detroit, Springfield, Middletown, Concord]</td>\n",
       "    </tr>\n",
       "    <tr>\n",
       "      <th>AA-10645</th>\n",
       "      <td>18</td>\n",
       "      <td>5086.935</td>\n",
       "      <td>42.364755</td>\n",
       "      <td>2011-06-22</td>\n",
       "      <td>2014-11-06</td>\n",
       "      <td>[Atlantic Metals Mobile 5-Shelf Bookcases, Cus...</td>\n",
       "      <td>[San Francisco, Oklahoma City, Chester, Lowell...</td>\n",
       "    </tr>\n",
       "    <tr>\n",
       "      <th>AB-10015</th>\n",
       "      <td>6</td>\n",
       "      <td>886.156</td>\n",
       "      <td>15.186975</td>\n",
       "      <td>2011-02-19</td>\n",
       "      <td>2013-11-11</td>\n",
       "      <td>[Samsung Convoy 3, Sauder Facets Collection Li...</td>\n",
       "      <td>[Oklahoma City, Seattle, Arlington]</td>\n",
       "    </tr>\n",
       "    <tr>\n",
       "      <th>...</th>\n",
       "      <td>...</td>\n",
       "      <td>...</td>\n",
       "      <td>...</td>\n",
       "      <td>...</td>\n",
       "      <td>...</td>\n",
       "      <td>...</td>\n",
       "      <td>...</td>\n",
       "    </tr>\n",
       "    <tr>\n",
       "      <th>VS-21820</th>\n",
       "      <td>8</td>\n",
       "      <td>1055.981</td>\n",
       "      <td>-26.473274</td>\n",
       "      <td>2011-01-08</td>\n",
       "      <td>2014-05-24</td>\n",
       "      <td>[Global High-Back Leather Tilter, Burgundy, Ho...</td>\n",
       "      <td>[Naperville, Huntsville, Raleigh, Los Angeles]</td>\n",
       "    </tr>\n",
       "    <tr>\n",
       "      <th>WB-21850</th>\n",
       "      <td>37</td>\n",
       "      <td>6160.102</td>\n",
       "      <td>23.563879</td>\n",
       "      <td>2011-11-04</td>\n",
       "      <td>2014-12-11</td>\n",
       "      <td>[GBC DocuBind TL200 Manual Binding Machine, Ho...</td>\n",
       "      <td>[Los Angeles, Anaheim, Redmond, Philadelphia, ...</td>\n",
       "    </tr>\n",
       "    <tr>\n",
       "      <th>XP-21865</th>\n",
       "      <td>28</td>\n",
       "      <td>2374.658</td>\n",
       "      <td>53.799227</td>\n",
       "      <td>2011-01-21</td>\n",
       "      <td>2014-11-18</td>\n",
       "      <td>[Deflect-o DuraMat Antistatic Studded Beveled ...</td>\n",
       "      <td>[Hollywood, Athens, Los Angeles, Westland, Eve...</td>\n",
       "    </tr>\n",
       "    <tr>\n",
       "      <th>ZC-21910</th>\n",
       "      <td>31</td>\n",
       "      <td>8025.707</td>\n",
       "      <td>7.780852</td>\n",
       "      <td>2011-10-13</td>\n",
       "      <td>2014-11-07</td>\n",
       "      <td>[GBC DocuBind P400 Electric Binding System, Be...</td>\n",
       "      <td>[Houston, Edmonds, Columbus, Pomona, Miami, Au...</td>\n",
       "    </tr>\n",
       "    <tr>\n",
       "      <th>ZD-21925</th>\n",
       "      <td>9</td>\n",
       "      <td>1493.944</td>\n",
       "      <td>38.716008</td>\n",
       "      <td>2011-08-27</td>\n",
       "      <td>2014-06-12</td>\n",
       "      <td>[Jabra SPEAK 410 Multidevice Speakerphone, Cis...</td>\n",
       "      <td>[Jacksonville, San Francisco, Richmond, Los An...</td>\n",
       "    </tr>\n",
       "  </tbody>\n",
       "</table>\n",
       "<p>409 rows × 7 columns</p>\n",
       "</div>"
      ],
      "text/plain": [
       "             #Purchases  Total_Sales  Average Profit % gained  \\\n",
       "Customer ID                                                     \n",
       "AA-10315             11     5563.560                44.527461   \n",
       "AA-10375             15     1056.390                52.349415   \n",
       "AA-10480             12     1790.512                55.580242   \n",
       "AA-10645             18     5086.935                42.364755   \n",
       "AB-10015              6      886.156                15.186975   \n",
       "...                 ...          ...                      ...   \n",
       "VS-21820              8     1055.981               -26.473274   \n",
       "WB-21850             37     6160.102                23.563879   \n",
       "XP-21865             28     2374.658                53.799227   \n",
       "ZC-21910             31     8025.707                 7.780852   \n",
       "ZD-21925              9     1493.944                38.716008   \n",
       "\n",
       "            First_Purchase_Date Latest_Purchase_Date  \\\n",
       "Customer ID                                            \n",
       "AA-10315             2011-03-31           2014-06-30   \n",
       "AA-10375             2011-04-21           2014-12-12   \n",
       "AA-10480             2011-05-04           2014-04-16   \n",
       "AA-10645             2011-06-22           2014-11-06   \n",
       "AB-10015             2011-02-19           2013-11-11   \n",
       "...                         ...                  ...   \n",
       "VS-21820             2011-01-08           2014-05-24   \n",
       "WB-21850             2011-11-04           2014-12-11   \n",
       "XP-21865             2011-01-21           2014-11-18   \n",
       "ZC-21910             2011-10-13           2014-11-07   \n",
       "ZD-21925             2011-08-27           2014-06-12   \n",
       "\n",
       "                                            Products Purchased  \\\n",
       "Customer ID                                                      \n",
       "AA-10315     [High Speed Automatic Electric Letter Opener, ...   \n",
       "AA-10375     [Logitech diNovo Edge Keyboard, Kensington Sli...   \n",
       "AA-10480     [Hon 4060 Series Tables, NETGEAR AC1750 Dual B...   \n",
       "AA-10645     [Atlantic Metals Mobile 5-Shelf Bookcases, Cus...   \n",
       "AB-10015     [Samsung Convoy 3, Sauder Facets Collection Li...   \n",
       "...                                                        ...   \n",
       "VS-21820     [Global High-Back Leather Tilter, Burgundy, Ho...   \n",
       "WB-21850     [GBC DocuBind TL200 Manual Binding Machine, Ho...   \n",
       "XP-21865     [Deflect-o DuraMat Antistatic Studded Beveled ...   \n",
       "ZC-21910     [GBC DocuBind P400 Electric Binding System, Be...   \n",
       "ZD-21925     [Jabra SPEAK 410 Multidevice Speakerphone, Cis...   \n",
       "\n",
       "                                                Location_Count  \n",
       "Customer ID                                                     \n",
       "AA-10315     [Round Rock, San Francisco, Minneapolis, New Y...  \n",
       "AA-10375     [Atlanta, Omaha, New York City, Lebanon, Provi...  \n",
       "AA-10480           [Detroit, Springfield, Middletown, Concord]  \n",
       "AA-10645     [San Francisco, Oklahoma City, Chester, Lowell...  \n",
       "AB-10015                   [Oklahoma City, Seattle, Arlington]  \n",
       "...                                                        ...  \n",
       "VS-21820        [Naperville, Huntsville, Raleigh, Los Angeles]  \n",
       "WB-21850     [Los Angeles, Anaheim, Redmond, Philadelphia, ...  \n",
       "XP-21865     [Hollywood, Athens, Los Angeles, Westland, Eve...  \n",
       "ZC-21910     [Houston, Edmonds, Columbus, Pomona, Miami, Au...  \n",
       "ZD-21925     [Jacksonville, San Francisco, Richmond, Los An...  \n",
       "\n",
       "[409 rows x 7 columns]"
      ]
     },
     "execution_count": 26,
     "metadata": {},
     "output_type": "execute_result"
    }
   ],
   "source": [
    "df_agg = data.groupby('Customer ID').apply(agg_customer)\n",
    "df_agg"
   ]
  },
  {
   "cell_type": "code",
   "execution_count": 27,
   "metadata": {},
   "outputs": [
    {
     "data": {
      "text/plain": [
       "0     2012\n",
       "9     2012\n",
       "21    2011\n",
       "32    2012\n",
       "34    2011\n",
       "Name: order year, dtype: int64"
      ]
     },
     "execution_count": 27,
     "metadata": {},
     "output_type": "execute_result"
    }
   ],
   "source": [
    "data['order year'] = data['Order Date'].dt.year\n",
    "data['order year'].head()"
   ]
  },
  {
   "cell_type": "code",
   "execution_count": 28,
   "metadata": {},
   "outputs": [
    {
     "data": {
      "image/png": "[encoded data removed]",
      "text/plain": [
       "<Figure size 1152x576 with 1 Axes>"
      ]
     },
     "metadata": {
      "needs_background": "light"
     },
     "output_type": "display_data"
    }
   ],
   "source": [
    "fig=plt.figure(figsize=(16,8))\n",
    "ax = fig.add_subplot(111)\n",
    "sns.barplot('order year','Profit %',hue='Sub-Category',palette='Paired',data=data)\n",
    "for o in ax.patches:\n",
    "    ax.annotate('{:.0f}'.format(o.get_height()), (o.get_x()+0.15, o.get_height()+1))\n",
    "plt.title(\"Tahun Order vs %Profit\")    \n",
    "plt.show()"
   ]
  },
  {
   "cell_type": "code",
   "execution_count": 29,
   "metadata": {},
   "outputs": [
    {
     "data": {
      "text/plain": [
       "Text(0.5, 1.0, 'Year wise Total Sales & % of profit gained')"
      ]
     },
     "execution_count": 29,
     "metadata": {},
     "output_type": "execute_result"
    },
    {
     "data": {
      "image/png": "[encoded data removed]",
      "text/plain": [
       "<Figure size 432x288 with 1 Axes>"
      ]
     },
     "metadata": {
      "needs_background": "light"
     },
     "output_type": "display_data"
    }
   ],
   "source": [
    "data.groupby('order year')['Sales','Profit %'].agg(['sum']).plot.bar()\n",
    "plt.title('Year wise Total Sales & % of profit gained')"
   ]
  },
  {
   "cell_type": "markdown",
   "metadata": {},
   "source": [
    "# segmentasi customers using simple rfm"
   ]
  },
  {
   "cell_type": "code",
   "execution_count": 30,
   "metadata": {},
   "outputs": [
    {
     "data": {
      "text/html": [
       "<div>\n",
       "<style scoped>\n",
       "    .dataframe tbody tr th:only-of-type {\n",
       "        vertical-align: middle;\n",
       "    }\n",
       "\n",
       "    .dataframe tbody tr th {\n",
       "        vertical-align: top;\n",
       "    }\n",
       "\n",
       "    .dataframe thead th {\n",
       "        text-align: right;\n",
       "    }\n",
       "</style>\n",
       "<table border=\"1\" class=\"dataframe\">\n",
       "  <thead>\n",
       "    <tr style=\"text-align: right;\">\n",
       "      <th></th>\n",
       "      <th>Recency</th>\n",
       "      <th>Frequency</th>\n",
       "      <th>Monetary</th>\n",
       "    </tr>\n",
       "    <tr>\n",
       "      <th>Customer ID</th>\n",
       "      <th></th>\n",
       "      <th></th>\n",
       "      <th></th>\n",
       "    </tr>\n",
       "  </thead>\n",
       "  <tbody>\n",
       "    <tr>\n",
       "      <th>RB-19360</th>\n",
       "      <td>96</td>\n",
       "      <td>6</td>\n",
       "      <td>15117.34</td>\n",
       "    </tr>\n",
       "    <tr>\n",
       "      <th>AB-10105</th>\n",
       "      <td>41</td>\n",
       "      <td>10</td>\n",
       "      <td>14473.57</td>\n",
       "    </tr>\n",
       "    <tr>\n",
       "      <th>KL-16645</th>\n",
       "      <td>47</td>\n",
       "      <td>12</td>\n",
       "      <td>14175.23</td>\n",
       "    </tr>\n",
       "    <tr>\n",
       "      <th>SC-20095</th>\n",
       "      <td>349</td>\n",
       "      <td>9</td>\n",
       "      <td>14142.33</td>\n",
       "    </tr>\n",
       "    <tr>\n",
       "      <th>HL-15040</th>\n",
       "      <td>43</td>\n",
       "      <td>6</td>\n",
       "      <td>12873.30</td>\n",
       "    </tr>\n",
       "  </tbody>\n",
       "</table>\n",
       "</div>"
      ],
      "text/plain": [
       "             Recency  Frequency  Monetary\n",
       "Customer ID                              \n",
       "RB-19360          96          6  15117.34\n",
       "AB-10105          41         10  14473.57\n",
       "KL-16645          47         12  14175.23\n",
       "SC-20095         349          9  14142.33\n",
       "HL-15040          43          6  12873.30"
      ]
     },
     "execution_count": 30,
     "metadata": {},
     "output_type": "execute_result"
    }
   ],
   "source": [
    "df_RFM = data.groupby('Customer ID').agg({'Order Date': lambda y: (data['Order Date'].max().date() - y.max().date()).days,\n",
    "                                        'Order ID': lambda y: len(y.unique()),  \n",
    "                                        'Sales': lambda y: round(y.sum(),2)})\n",
    "df_RFM.columns = ['Recency', 'Frequency', 'Monetary']\n",
    "df_RFM = df_RFM.sort_values('Monetary', ascending=False)\n",
    "df_RFM.head()"
   ]
  },
  {
   "cell_type": "code",
   "execution_count": 31,
   "metadata": {},
   "outputs": [
    {
     "name": "stdout",
     "output_type": "stream",
     "text": [
      "     Recency  Frequency  Monetary\n",
      "0.8    222.2        8.0   4070.17\n"
     ]
    },
    {
     "data": {
      "text/html": [
       "<div>\n",
       "<style scoped>\n",
       "    .dataframe tbody tr th:only-of-type {\n",
       "        vertical-align: middle;\n",
       "    }\n",
       "\n",
       "    .dataframe tbody tr th {\n",
       "        vertical-align: top;\n",
       "    }\n",
       "\n",
       "    .dataframe thead th {\n",
       "        text-align: right;\n",
       "    }\n",
       "</style>\n",
       "<table border=\"1\" class=\"dataframe\">\n",
       "  <thead>\n",
       "    <tr style=\"text-align: right;\">\n",
       "      <th></th>\n",
       "      <th>Recency</th>\n",
       "      <th>Frequency</th>\n",
       "      <th>Monetary</th>\n",
       "      <th>R</th>\n",
       "      <th>F</th>\n",
       "      <th>M</th>\n",
       "    </tr>\n",
       "    <tr>\n",
       "      <th>Customer ID</th>\n",
       "      <th></th>\n",
       "      <th></th>\n",
       "      <th></th>\n",
       "      <th></th>\n",
       "      <th></th>\n",
       "      <th></th>\n",
       "    </tr>\n",
       "  </thead>\n",
       "  <tbody>\n",
       "    <tr>\n",
       "      <th>RB-19360</th>\n",
       "      <td>96</td>\n",
       "      <td>6</td>\n",
       "      <td>15117.34</td>\n",
       "      <td>2</td>\n",
       "      <td>1</td>\n",
       "      <td>2</td>\n",
       "    </tr>\n",
       "    <tr>\n",
       "      <th>AB-10105</th>\n",
       "      <td>41</td>\n",
       "      <td>10</td>\n",
       "      <td>14473.57</td>\n",
       "      <td>2</td>\n",
       "      <td>2</td>\n",
       "      <td>2</td>\n",
       "    </tr>\n",
       "    <tr>\n",
       "      <th>KL-16645</th>\n",
       "      <td>47</td>\n",
       "      <td>12</td>\n",
       "      <td>14175.23</td>\n",
       "      <td>2</td>\n",
       "      <td>2</td>\n",
       "      <td>2</td>\n",
       "    </tr>\n",
       "    <tr>\n",
       "      <th>SC-20095</th>\n",
       "      <td>349</td>\n",
       "      <td>9</td>\n",
       "      <td>14142.33</td>\n",
       "      <td>1</td>\n",
       "      <td>2</td>\n",
       "      <td>2</td>\n",
       "    </tr>\n",
       "    <tr>\n",
       "      <th>HL-15040</th>\n",
       "      <td>43</td>\n",
       "      <td>6</td>\n",
       "      <td>12873.30</td>\n",
       "      <td>2</td>\n",
       "      <td>1</td>\n",
       "      <td>2</td>\n",
       "    </tr>\n",
       "  </tbody>\n",
       "</table>\n",
       "</div>"
      ],
      "text/plain": [
       "             Recency  Frequency  Monetary  R  F  M\n",
       "Customer ID                                       \n",
       "RB-19360          96          6  15117.34  2  1  2\n",
       "AB-10105          41         10  14473.57  2  2  2\n",
       "KL-16645          47         12  14175.23  2  2  2\n",
       "SC-20095         349          9  14142.33  1  2  2\n",
       "HL-15040          43          6  12873.30  2  1  2"
      ]
     },
     "execution_count": 31,
     "metadata": {},
     "output_type": "execute_result"
    }
   ],
   "source": [
    "quantiles = df_RFM.quantile(q=[0.8])\n",
    "print(quantiles)\n",
    "df_RFM['R']=np.where(df_RFM['Recency']<=int(quantiles.Recency.values), 2, 1)\n",
    "df_RFM['F']=np.where(df_RFM['Frequency']>=int(quantiles.Frequency.values), 2, 1)\n",
    "df_RFM['M']=np.where(df_RFM['Monetary']>=int(quantiles.Monetary.values), 2, 1)\n",
    "df_RFM.head()"
   ]
  },
  {
   "cell_type": "code",
   "execution_count": 32,
   "metadata": {},
   "outputs": [],
   "source": [
    "df_RFM['RMScore'] = df_RFM.M.map(str)+df_RFM.R.map(str)"
   ]
  },
  {
   "cell_type": "code",
   "execution_count": null,
   "metadata": {},
   "outputs": [],
   "source": []
  },
  {
   "cell_type": "code",
   "execution_count": 33,
   "metadata": {},
   "outputs": [],
   "source": [
    "df_RFM.reset_index(level=0, inplace=True)"
   ]
  },
  {
   "cell_type": "code",
   "execution_count": 34,
   "metadata": {},
   "outputs": [
    {
     "data": {
      "text/html": [
       "<div>\n",
       "<style scoped>\n",
       "    .dataframe tbody tr th:only-of-type {\n",
       "        vertical-align: middle;\n",
       "    }\n",
       "\n",
       "    .dataframe tbody tr th {\n",
       "        vertical-align: top;\n",
       "    }\n",
       "\n",
       "    .dataframe thead th {\n",
       "        text-align: right;\n",
       "    }\n",
       "</style>\n",
       "<table border=\"1\" class=\"dataframe\">\n",
       "  <thead>\n",
       "    <tr style=\"text-align: right;\">\n",
       "      <th></th>\n",
       "      <th>Customer ID</th>\n",
       "      <th>Recency</th>\n",
       "      <th>Frequency</th>\n",
       "      <th>Monetary</th>\n",
       "      <th>R</th>\n",
       "      <th>F</th>\n",
       "      <th>M</th>\n",
       "      <th>RMScore</th>\n",
       "    </tr>\n",
       "  </thead>\n",
       "  <tbody>\n",
       "    <tr>\n",
       "      <th>0</th>\n",
       "      <td>RB-19360</td>\n",
       "      <td>96</td>\n",
       "      <td>6</td>\n",
       "      <td>15117.34</td>\n",
       "      <td>2</td>\n",
       "      <td>1</td>\n",
       "      <td>2</td>\n",
       "      <td>22</td>\n",
       "    </tr>\n",
       "    <tr>\n",
       "      <th>1</th>\n",
       "      <td>AB-10105</td>\n",
       "      <td>41</td>\n",
       "      <td>10</td>\n",
       "      <td>14473.57</td>\n",
       "      <td>2</td>\n",
       "      <td>2</td>\n",
       "      <td>2</td>\n",
       "      <td>22</td>\n",
       "    </tr>\n",
       "    <tr>\n",
       "      <th>2</th>\n",
       "      <td>KL-16645</td>\n",
       "      <td>47</td>\n",
       "      <td>12</td>\n",
       "      <td>14175.23</td>\n",
       "      <td>2</td>\n",
       "      <td>2</td>\n",
       "      <td>2</td>\n",
       "      <td>22</td>\n",
       "    </tr>\n",
       "    <tr>\n",
       "      <th>3</th>\n",
       "      <td>SC-20095</td>\n",
       "      <td>349</td>\n",
       "      <td>9</td>\n",
       "      <td>14142.33</td>\n",
       "      <td>1</td>\n",
       "      <td>2</td>\n",
       "      <td>2</td>\n",
       "      <td>21</td>\n",
       "    </tr>\n",
       "    <tr>\n",
       "      <th>4</th>\n",
       "      <td>HL-15040</td>\n",
       "      <td>43</td>\n",
       "      <td>6</td>\n",
       "      <td>12873.30</td>\n",
       "      <td>2</td>\n",
       "      <td>1</td>\n",
       "      <td>2</td>\n",
       "      <td>22</td>\n",
       "    </tr>\n",
       "    <tr>\n",
       "      <th>...</th>\n",
       "      <td>...</td>\n",
       "      <td>...</td>\n",
       "      <td>...</td>\n",
       "      <td>...</td>\n",
       "      <td>...</td>\n",
       "      <td>...</td>\n",
       "      <td>...</td>\n",
       "      <td>...</td>\n",
       "    </tr>\n",
       "    <tr>\n",
       "      <th>404</th>\n",
       "      <td>AR-10570</td>\n",
       "      <td>534</td>\n",
       "      <td>1</td>\n",
       "      <td>88.15</td>\n",
       "      <td>1</td>\n",
       "      <td>1</td>\n",
       "      <td>1</td>\n",
       "      <td>11</td>\n",
       "    </tr>\n",
       "    <tr>\n",
       "      <th>405</th>\n",
       "      <td>JC-15340</td>\n",
       "      <td>114</td>\n",
       "      <td>4</td>\n",
       "      <td>71.26</td>\n",
       "      <td>2</td>\n",
       "      <td>1</td>\n",
       "      <td>1</td>\n",
       "      <td>12</td>\n",
       "    </tr>\n",
       "    <tr>\n",
       "      <th>406</th>\n",
       "      <td>LB-16735</td>\n",
       "      <td>48</td>\n",
       "      <td>3</td>\n",
       "      <td>50.19</td>\n",
       "      <td>2</td>\n",
       "      <td>1</td>\n",
       "      <td>1</td>\n",
       "      <td>12</td>\n",
       "    </tr>\n",
       "    <tr>\n",
       "      <th>407</th>\n",
       "      <td>RE-19405</td>\n",
       "      <td>1098</td>\n",
       "      <td>1</td>\n",
       "      <td>48.36</td>\n",
       "      <td>1</td>\n",
       "      <td>1</td>\n",
       "      <td>1</td>\n",
       "      <td>11</td>\n",
       "    </tr>\n",
       "    <tr>\n",
       "      <th>408</th>\n",
       "      <td>TS-21085</td>\n",
       "      <td>357</td>\n",
       "      <td>2</td>\n",
       "      <td>4.83</td>\n",
       "      <td>1</td>\n",
       "      <td>1</td>\n",
       "      <td>1</td>\n",
       "      <td>11</td>\n",
       "    </tr>\n",
       "  </tbody>\n",
       "</table>\n",
       "<p>409 rows × 8 columns</p>\n",
       "</div>"
      ],
      "text/plain": [
       "    Customer ID  Recency  Frequency  Monetary  R  F  M RMScore\n",
       "0      RB-19360       96          6  15117.34  2  1  2      22\n",
       "1      AB-10105       41         10  14473.57  2  2  2      22\n",
       "2      KL-16645       47         12  14175.23  2  2  2      22\n",
       "3      SC-20095      349          9  14142.33  1  2  2      21\n",
       "4      HL-15040       43          6  12873.30  2  1  2      22\n",
       "..          ...      ...        ...       ... .. .. ..     ...\n",
       "404    AR-10570      534          1     88.15  1  1  1      11\n",
       "405    JC-15340      114          4     71.26  2  1  1      12\n",
       "406    LB-16735       48          3     50.19  2  1  1      12\n",
       "407    RE-19405     1098          1     48.36  1  1  1      11\n",
       "408    TS-21085      357          2      4.83  1  1  1      11\n",
       "\n",
       "[409 rows x 8 columns]"
      ]
     },
     "execution_count": 34,
     "metadata": {},
     "output_type": "execute_result"
    }
   ],
   "source": [
    "df_RFM"
   ]
  },
  {
   "cell_type": "code",
   "execution_count": 35,
   "metadata": {},
   "outputs": [
    {
     "data": {
      "text/plain": [
       "array(['22', '21', '12', '11'], dtype=object)"
      ]
     },
     "execution_count": 35,
     "metadata": {},
     "output_type": "execute_result"
    }
   ],
   "source": [
    "df_RFM.RMScore.unique()"
   ]
  },
  {
   "cell_type": "code",
   "execution_count": 36,
   "metadata": {},
   "outputs": [
    {
     "name": "stdout",
     "output_type": "stream",
     "text": [
      "<class 'pandas.core.frame.DataFrame'>\n",
      "RangeIndex: 409 entries, 0 to 408\n",
      "Data columns (total 8 columns):\n",
      " #   Column       Non-Null Count  Dtype  \n",
      "---  ------       --------------  -----  \n",
      " 0   Customer ID  409 non-null    object \n",
      " 1   Recency      409 non-null    int64  \n",
      " 2   Frequency    409 non-null    int64  \n",
      " 3   Monetary     409 non-null    float64\n",
      " 4   R            409 non-null    int32  \n",
      " 5   F            409 non-null    int32  \n",
      " 6   M            409 non-null    int32  \n",
      " 7   RMScore      409 non-null    object \n",
      "dtypes: float64(1), int32(3), int64(2), object(2)\n",
      "memory usage: 20.9+ KB\n"
     ]
    }
   ],
   "source": [
    "df_RFM.info()"
   ]
  },
  {
   "cell_type": "code",
   "execution_count": 37,
   "metadata": {},
   "outputs": [],
   "source": [
    "df_RFM['RMScore'] = df_RFM['RMScore'].astype(int)"
   ]
  },
  {
   "cell_type": "markdown",
   "metadata": {},
   "source": [
    "# k-means clustering"
   ]
  },
  {
   "cell_type": "code",
   "execution_count": 41,
   "metadata": {},
   "outputs": [
    {
     "data": {
      "text/plain": [
       "array([[-0.25877915, -0.1271903 ,  4.75343384, ..., -0.62542503,\n",
       "         1.99694889,  2.01435833],\n",
       "       [-0.57077599,  1.44919854,  4.50419244, ...,  1.59891267,\n",
       "         1.99694889,  2.01435833],\n",
       "       [-0.53673997,  2.23739296,  4.3886874 , ...,  1.59891267,\n",
       "         1.99694889,  2.01435833],\n",
       "       ...,\n",
       "       [-0.5310673 , -1.30948192, -1.07995013, ..., -0.62542503,\n",
       "        -0.50076394, -0.44349536],\n",
       "       [ 5.42523597, -2.09767634, -1.08065863, ..., -0.62542503,\n",
       "        -0.50076394, -0.68928073],\n",
       "       [ 1.22178766, -1.70357913, -1.09751167, ..., -0.62542503,\n",
       "        -0.50076394, -0.68928073]])"
      ]
     },
     "execution_count": 41,
     "metadata": {},
     "output_type": "execute_result"
    }
   ],
   "source": [
    "from sklearn.preprocessing import StandardScaler\n",
    "X = df_RFM.values[:,1:]\n",
    "X = np.nan_to_num(X)\n",
    "Clus_dataSet = StandardScaler().fit_transform(X)\n",
    "Clus_dataSet"
   ]
  },
  {
   "cell_type": "code",
   "execution_count": 42,
   "metadata": {},
   "outputs": [
    {
     "name": "stdout",
     "output_type": "stream",
     "text": [
      "[0 0 0 0 0 0 0 0 0 0 0 0 0 0 0 0 0 0 0 0 0 0 0 0 0 0 0 0 1 1 1 1 1 1 1 1 1\n",
      " 1 1 1 1 1 1 1 1 1 1 1 1 1 1 1 1 1 1 1 1 1 1 1 1 1 1 1 1 1 1 1 1 1 1 1 1 1\n",
      " 1 1 1 1 1 1 1 1 1 1 1 1 1 1 1 1 1 1 1 1 1 1 1 1 1 1 1 1 1 1 1 1 1 1 1 1 1\n",
      " 1 1 1 1 1 1 1 1 1 1 1 1 1 1 1 1 1 1 1 1 1 1 1 1 1 1 1 1 1 1 1 1 1 1 1 1 1\n",
      " 1 1 1 1 1 1 1 1 1 1 1 1 1 1 2 2 2 2 2 2 2 2 2 2 2 2 2 2 2 2 2 2 2 2 2 2 2\n",
      " 2 2 2 2 2 2 2 2 2 2 2 2 2 2 2 2 2 2 2 2 2 2 2 2 2 2 2 2 2 2 2 2 2 2 2 2 2\n",
      " 2 2 2 2 2 2 2 2 2 2 2 2 2 2 2 2 2 2 2 2 2 2 2 2 2 2 2 2 2 2 2 2 2 2 2 2 2\n",
      " 2 2 2 2 2 2 2 2 2 2 2 2 2 2 2 2 2 2 2 2 2 2 2 2 2 2 2 2 2 2 2 2 2 2 2 2 2\n",
      " 2 2 2 2 2 2 2 2 2 2 2 2 2 2 2 2 2 2 2 2 2 2 2 2 2 2 2 2 2 2 2 2 2 2 2 2 2\n",
      " 2 2 2 2 2 2 2 2 2 2 2 2 2 2 2 2 2 2 2 2 2 2 2 2 2 2 2 2 2 2 2 2 2 2 2 2 2\n",
      " 2 2 2 2 2 2 2 2 2 2 2 2 2 2 2 2 2 2 2 2 2 2 2 2 2 2 2 2 2 2 2 2 2 2 2 2 2\n",
      " 2 2]\n"
     ]
    }
   ],
   "source": [
    "clusterNum = 3\n",
    "k_means = KMeans(init = \"k-means++\", n_clusters = clusterNum, n_init = 12)\n",
    "k_means.fit(X)\n",
    "labels = k_means.labels_\n",
    "print(labels)"
   ]
  },
  {
   "cell_type": "markdown",
   "metadata": {},
   "source": [
    "# berapa clusternya seharusnya?"
   ]
  },
  {
   "cell_type": "code",
   "execution_count": 43,
   "metadata": {},
   "outputs": [
    {
     "data": {
      "image/png": "[encoded data removed]",
      "text/plain": [
       "<Figure size 432x288 with 1 Axes>"
      ]
     },
     "metadata": {
      "needs_background": "light"
     },
     "output_type": "display_data"
    }
   ],
   "source": [
    "Nc = range(1, 20)\n",
    "kmeans = [KMeans(n_clusters=i) for i in Nc]\n",
    "kmeans\n",
    "score = [kmeans[i].fit(X).score(X) for i in range(len(kmeans))]\n",
    "score\n",
    "pl.plot(Nc,score)\n",
    "pl.xlabel('Number of Clusters')\n",
    "pl.ylabel('Score')\n",
    "pl.title('Elbow Curve')\n",
    "pl.show()"
   ]
  },
  {
   "cell_type": "code",
   "execution_count": 45,
   "metadata": {},
   "outputs": [
    {
     "data": {
      "image/png": "[encoded data removed]",
      "text/plain": [
       "<Figure size 432x288 with 1 Axes>"
      ]
     },
     "metadata": {
      "needs_background": "light"
     },
     "output_type": "display_data"
    }
   ],
   "source": [
    "Nc = range(1, 20)\n",
    "kmeans = [KMeans(n_clusters=i) for i in Nc]\n",
    "kmeans\n",
    "score = [kmeans[i].fit(X).inertia_ for i in range(len(kmeans))]\n",
    "score\n",
    "pl.plot(Nc,score)\n",
    "pl.xlabel('Number of Clusters')\n",
    "pl.ylabel('Sum of within sum square')\n",
    "pl.title('Elbow Curve')\n",
    "pl.show()"
   ]
  },
  {
   "cell_type": "code",
   "execution_count": 44,
   "metadata": {},
   "outputs": [
    {
     "name": "stdout",
     "output_type": "stream",
     "text": [
      "[2 2 2 2 2 2 2 2 2 2 2 2 2 1 1 1 1 1 1 1 1 1 1 1 1 1 1 1 1 1 1 1 1 1 1 1 1\n",
      " 1 1 1 1 1 1 1 1 1 1 1 1 1 1 1 1 1 1 1 1 1 1 1 1 1 1 1 1 1 3 3 3 3 3 3 3 3\n",
      " 3 3 3 3 3 3 3 3 3 3 3 3 3 3 3 3 3 3 3 3 3 3 3 3 3 3 3 3 3 3 3 3 3 3 3 3 3\n",
      " 3 3 3 3 3 3 3 3 3 3 3 3 3 3 3 3 3 3 3 3 3 3 3 3 3 3 3 3 3 3 3 3 3 3 3 3 3\n",
      " 3 3 3 3 3 3 3 3 3 3 3 3 3 3 3 3 3 3 3 3 3 3 3 3 3 3 3 3 3 3 3 3 3 3 3 3 3\n",
      " 3 3 3 3 3 3 3 3 3 3 3 3 3 3 3 3 3 3 3 3 3 3 3 3 3 3 3 3 3 3 3 3 3 3 3 3 3\n",
      " 0 0 0 0 0 0 0 0 0 0 0 0 0 0 0 0 0 0 0 0 0 0 0 0 0 0 0 0 0 0 0 0 0 0 0 0 0\n",
      " 0 0 0 0 0 0 0 0 0 0 0 0 0 0 0 0 0 0 0 0 0 0 0 0 0 0 0 0 0 0 0 0 0 0 0 0 0\n",
      " 0 0 0 0 0 0 0 0 0 0 0 0 0 0 0 0 0 0 0 0 0 0 0 0 0 0 0 0 0 0 0 0 0 0 0 0 0\n",
      " 0 0 0 0 0 0 0 0 0 0 0 0 0 0 0 0 0 0 0 0 0 0 0 0 0 0 0 0 0 0 0 0 0 0 0 0 0\n",
      " 0 0 0 0 0 0 0 0 0 0 0 0 0 0 0 0 0 0 0 0 0 0 0 0 0 0 0 0 0 0 0 0 0 0 0 0 0\n",
      " 0 0]\n"
     ]
    }
   ],
   "source": [
    "clusterNum = 4\n",
    "k_means = KMeans(init = \"k-means++\", n_clusters = clusterNum, n_init = 12)\n",
    "k_means.fit(X)\n",
    "labels = k_means.labels_\n",
    "print(labels)"
   ]
  },
  {
   "cell_type": "markdown",
   "metadata": {},
   "source": [
    "# kesimpulan"
   ]
  },
  {
   "cell_type": "code",
   "execution_count": 46,
   "metadata": {},
   "outputs": [
    {
     "data": {
      "text/html": [
       "<div>\n",
       "<style scoped>\n",
       "    .dataframe tbody tr th:only-of-type {\n",
       "        vertical-align: middle;\n",
       "    }\n",
       "\n",
       "    .dataframe tbody tr th {\n",
       "        vertical-align: top;\n",
       "    }\n",
       "\n",
       "    .dataframe thead th {\n",
       "        text-align: right;\n",
       "    }\n",
       "</style>\n",
       "<table border=\"1\" class=\"dataframe\">\n",
       "  <thead>\n",
       "    <tr style=\"text-align: right;\">\n",
       "      <th></th>\n",
       "      <th>Customer ID</th>\n",
       "      <th>Recency</th>\n",
       "      <th>Frequency</th>\n",
       "      <th>Monetary</th>\n",
       "      <th>R</th>\n",
       "      <th>F</th>\n",
       "      <th>M</th>\n",
       "      <th>RMScore</th>\n",
       "      <th>Kategori</th>\n",
       "    </tr>\n",
       "  </thead>\n",
       "  <tbody>\n",
       "    <tr>\n",
       "      <th>0</th>\n",
       "      <td>RB-19360</td>\n",
       "      <td>96</td>\n",
       "      <td>6</td>\n",
       "      <td>15117.34</td>\n",
       "      <td>2</td>\n",
       "      <td>1</td>\n",
       "      <td>2</td>\n",
       "      <td>22</td>\n",
       "      <td>2</td>\n",
       "    </tr>\n",
       "    <tr>\n",
       "      <th>1</th>\n",
       "      <td>AB-10105</td>\n",
       "      <td>41</td>\n",
       "      <td>10</td>\n",
       "      <td>14473.57</td>\n",
       "      <td>2</td>\n",
       "      <td>2</td>\n",
       "      <td>2</td>\n",
       "      <td>22</td>\n",
       "      <td>2</td>\n",
       "    </tr>\n",
       "    <tr>\n",
       "      <th>2</th>\n",
       "      <td>KL-16645</td>\n",
       "      <td>47</td>\n",
       "      <td>12</td>\n",
       "      <td>14175.23</td>\n",
       "      <td>2</td>\n",
       "      <td>2</td>\n",
       "      <td>2</td>\n",
       "      <td>22</td>\n",
       "      <td>2</td>\n",
       "    </tr>\n",
       "    <tr>\n",
       "      <th>3</th>\n",
       "      <td>SC-20095</td>\n",
       "      <td>349</td>\n",
       "      <td>9</td>\n",
       "      <td>14142.33</td>\n",
       "      <td>1</td>\n",
       "      <td>2</td>\n",
       "      <td>2</td>\n",
       "      <td>21</td>\n",
       "      <td>2</td>\n",
       "    </tr>\n",
       "    <tr>\n",
       "      <th>4</th>\n",
       "      <td>HL-15040</td>\n",
       "      <td>43</td>\n",
       "      <td>6</td>\n",
       "      <td>12873.30</td>\n",
       "      <td>2</td>\n",
       "      <td>1</td>\n",
       "      <td>2</td>\n",
       "      <td>22</td>\n",
       "      <td>2</td>\n",
       "    </tr>\n",
       "  </tbody>\n",
       "</table>\n",
       "</div>"
      ],
      "text/plain": [
       "  Customer ID  Recency  Frequency  Monetary  R  F  M  RMScore  Kategori\n",
       "0    RB-19360       96          6  15117.34  2  1  2       22         2\n",
       "1    AB-10105       41         10  14473.57  2  2  2       22         2\n",
       "2    KL-16645       47         12  14175.23  2  2  2       22         2\n",
       "3    SC-20095      349          9  14142.33  1  2  2       21         2\n",
       "4    HL-15040       43          6  12873.30  2  1  2       22         2"
      ]
     },
     "execution_count": 46,
     "metadata": {},
     "output_type": "execute_result"
    }
   ],
   "source": [
    "df_RFM[\"Kategori\"] = labels\n",
    "df_RFM.head(5)"
   ]
  },
  {
   "cell_type": "code",
   "execution_count": 51,
   "metadata": {},
   "outputs": [
    {
     "name": "stdout",
     "output_type": "stream",
     "text": [
      "<class 'pandas.core.frame.DataFrame'>\n",
      "RangeIndex: 409 entries, 0 to 408\n",
      "Data columns (total 9 columns):\n",
      " #   Column       Non-Null Count  Dtype  \n",
      "---  ------       --------------  -----  \n",
      " 0   Customer ID  409 non-null    object \n",
      " 1   Recency      409 non-null    int64  \n",
      " 2   Frequency    409 non-null    int64  \n",
      " 3   Monetary     409 non-null    float64\n",
      " 4   R            409 non-null    int32  \n",
      " 5   F            409 non-null    int32  \n",
      " 6   M            409 non-null    int32  \n",
      " 7   RMScore      409 non-null    int32  \n",
      " 8   Kategori     409 non-null    int32  \n",
      "dtypes: float64(1), int32(5), int64(2), object(1)\n",
      "memory usage: 20.9+ KB\n"
     ]
    }
   ],
   "source": [
    "df_RFM.info()"
   ]
  },
  {
   "cell_type": "code",
   "execution_count": 50,
   "metadata": {},
   "outputs": [
    {
     "data": {
      "text/html": [
       "<div>\n",
       "<style scoped>\n",
       "    .dataframe tbody tr th:only-of-type {\n",
       "        vertical-align: middle;\n",
       "    }\n",
       "\n",
       "    .dataframe tbody tr th {\n",
       "        vertical-align: top;\n",
       "    }\n",
       "\n",
       "    .dataframe thead th {\n",
       "        text-align: right;\n",
       "    }\n",
       "</style>\n",
       "<table border=\"1\" class=\"dataframe\">\n",
       "  <thead>\n",
       "    <tr style=\"text-align: right;\">\n",
       "      <th></th>\n",
       "      <th>Recency</th>\n",
       "      <th>Frequency</th>\n",
       "      <th>Monetary</th>\n",
       "      <th>R</th>\n",
       "      <th>F</th>\n",
       "      <th>M</th>\n",
       "      <th>RMScore</th>\n",
       "    </tr>\n",
       "    <tr>\n",
       "      <th>Kategori</th>\n",
       "      <th></th>\n",
       "      <th></th>\n",
       "      <th></th>\n",
       "      <th></th>\n",
       "      <th></th>\n",
       "      <th></th>\n",
       "      <th></th>\n",
       "    </tr>\n",
       "  </thead>\n",
       "  <tbody>\n",
       "    <tr>\n",
       "      <th>2</th>\n",
       "      <td>120.461538</td>\n",
       "      <td>8.846154</td>\n",
       "      <td>12465.109231</td>\n",
       "      <td>1.769231</td>\n",
       "      <td>1.692308</td>\n",
       "      <td>2.000000</td>\n",
       "      <td>21.769231</td>\n",
       "    </tr>\n",
       "    <tr>\n",
       "      <th>1</th>\n",
       "      <td>104.754717</td>\n",
       "      <td>8.207547</td>\n",
       "      <td>6324.487547</td>\n",
       "      <td>1.905660</td>\n",
       "      <td>1.471698</td>\n",
       "      <td>2.000000</td>\n",
       "      <td>21.905660</td>\n",
       "    </tr>\n",
       "    <tr>\n",
       "      <th>3</th>\n",
       "      <td>121.403846</td>\n",
       "      <td>6.897436</td>\n",
       "      <td>3044.626154</td>\n",
       "      <td>1.833333</td>\n",
       "      <td>1.346154</td>\n",
       "      <td>1.102564</td>\n",
       "      <td>12.858974</td>\n",
       "    </tr>\n",
       "    <tr>\n",
       "      <th>0</th>\n",
       "      <td>170.401070</td>\n",
       "      <td>5.133690</td>\n",
       "      <td>1011.740321</td>\n",
       "      <td>1.743316</td>\n",
       "      <td>1.144385</td>\n",
       "      <td>1.000000</td>\n",
       "      <td>11.743316</td>\n",
       "    </tr>\n",
       "  </tbody>\n",
       "</table>\n",
       "</div>"
      ],
      "text/plain": [
       "             Recency  Frequency      Monetary         R         F         M  \\\n",
       "Kategori                                                                      \n",
       "2         120.461538   8.846154  12465.109231  1.769231  1.692308  2.000000   \n",
       "1         104.754717   8.207547   6324.487547  1.905660  1.471698  2.000000   \n",
       "3         121.403846   6.897436   3044.626154  1.833333  1.346154  1.102564   \n",
       "0         170.401070   5.133690   1011.740321  1.743316  1.144385  1.000000   \n",
       "\n",
       "            RMScore  \n",
       "Kategori             \n",
       "2         21.769231  \n",
       "1         21.905660  \n",
       "3         12.858974  \n",
       "0         11.743316  "
      ]
     },
     "execution_count": 50,
     "metadata": {},
     "output_type": "execute_result"
    }
   ],
   "source": [
    "df_RFM.groupby('Kategori').mean().sort_values(by='Monetary', ascending=False)"
   ]
  },
  {
   "cell_type": "code",
   "execution_count": 52,
   "metadata": {},
   "outputs": [],
   "source": [
    "def kategori(x):\n",
    "    if x == 2:\n",
    "        return 'Platinum'\n",
    "    elif x == 1:\n",
    "        return 'Gold'\n",
    "    elif x == 3:\n",
    "        return 'Silver'\n",
    "    else:\n",
    "        return 'Bronze'"
   ]
  },
  {
   "cell_type": "code",
   "execution_count": 53,
   "metadata": {},
   "outputs": [],
   "source": [
    "df_RFM['Kategori'] = df_RFM['Kategori'].apply(kategori)"
   ]
  },
  {
   "cell_type": "code",
   "execution_count": 54,
   "metadata": {},
   "outputs": [
    {
     "data": {
      "text/plain": [
       "array(['Platinum', 'Gold', 'Silver', 'Bronze'], dtype=object)"
      ]
     },
     "execution_count": 54,
     "metadata": {},
     "output_type": "execute_result"
    }
   ],
   "source": [
    "df_RFM['Kategori'].unique()"
   ]
  },
  {
   "cell_type": "code",
   "execution_count": 55,
   "metadata": {},
   "outputs": [
    {
     "data": {
      "text/html": [
       "<div>\n",
       "<style scoped>\n",
       "    .dataframe tbody tr th:only-of-type {\n",
       "        vertical-align: middle;\n",
       "    }\n",
       "\n",
       "    .dataframe tbody tr th {\n",
       "        vertical-align: top;\n",
       "    }\n",
       "\n",
       "    .dataframe thead th {\n",
       "        text-align: right;\n",
       "    }\n",
       "</style>\n",
       "<table border=\"1\" class=\"dataframe\">\n",
       "  <thead>\n",
       "    <tr style=\"text-align: right;\">\n",
       "      <th></th>\n",
       "      <th>Customer ID</th>\n",
       "      <th>Recency</th>\n",
       "      <th>Frequency</th>\n",
       "      <th>Monetary</th>\n",
       "      <th>R</th>\n",
       "      <th>F</th>\n",
       "      <th>M</th>\n",
       "      <th>RMScore</th>\n",
       "      <th>Kategori</th>\n",
       "    </tr>\n",
       "  </thead>\n",
       "  <tbody>\n",
       "    <tr>\n",
       "      <th>0</th>\n",
       "      <td>RB-19360</td>\n",
       "      <td>96</td>\n",
       "      <td>6</td>\n",
       "      <td>15117.34</td>\n",
       "      <td>2</td>\n",
       "      <td>1</td>\n",
       "      <td>2</td>\n",
       "      <td>22</td>\n",
       "      <td>Platinum</td>\n",
       "    </tr>\n",
       "    <tr>\n",
       "      <th>1</th>\n",
       "      <td>AB-10105</td>\n",
       "      <td>41</td>\n",
       "      <td>10</td>\n",
       "      <td>14473.57</td>\n",
       "      <td>2</td>\n",
       "      <td>2</td>\n",
       "      <td>2</td>\n",
       "      <td>22</td>\n",
       "      <td>Platinum</td>\n",
       "    </tr>\n",
       "    <tr>\n",
       "      <th>2</th>\n",
       "      <td>KL-16645</td>\n",
       "      <td>47</td>\n",
       "      <td>12</td>\n",
       "      <td>14175.23</td>\n",
       "      <td>2</td>\n",
       "      <td>2</td>\n",
       "      <td>2</td>\n",
       "      <td>22</td>\n",
       "      <td>Platinum</td>\n",
       "    </tr>\n",
       "  </tbody>\n",
       "</table>\n",
       "</div>"
      ],
      "text/plain": [
       "  Customer ID  Recency  Frequency  Monetary  R  F  M  RMScore  Kategori\n",
       "0    RB-19360       96          6  15117.34  2  1  2       22  Platinum\n",
       "1    AB-10105       41         10  14473.57  2  2  2       22  Platinum\n",
       "2    KL-16645       47         12  14175.23  2  2  2       22  Platinum"
      ]
     },
     "execution_count": 55,
     "metadata": {},
     "output_type": "execute_result"
    }
   ],
   "source": [
    "df_RFM.head(3)"
   ]
  },
  {
   "cell_type": "code",
   "execution_count": 56,
   "metadata": {},
   "outputs": [
    {
     "data": {
      "image/png": "[encoded data removed]",
      "text/plain": [
       "<Figure size 720x576 with 1 Axes>"
      ]
     },
     "metadata": {
      "needs_background": "light"
     },
     "output_type": "display_data"
    }
   ],
   "source": [
    "fig=plt.figure(figsize=(10,8))\n",
    "ax = fig.add_subplot(111)\n",
    "s=sns.countplot('Kategori', data = df_RFM)\n",
    "for s in ax.patches:\n",
    "    ax.annotate('{:.0f}'.format(s.get_height()), (s.get_x()+0.15, s.get_height()+1))\n",
    "plt.show()"
   ]
  },
  {
   "cell_type": "code",
   "execution_count": null,
   "metadata": {},
   "outputs": [],
   "source": []
  }
 ],
 "metadata": {
  "kernelspec": {
   "display_name": "Python 3",
   "language": "python",
   "name": "python3"
  },
  "language_info": {
   "codemirror_mode": {
    "name": "ipython",
    "version": 3
   },
   "file_extension": ".py",
   "mimetype": "text/x-python",
   "name": "python",
   "nbconvert_exporter": "python",
   "pygments_lexer": "ipython3",
   "version": "3.8.5"
  },
  "toc": {
   "base_numbering": 1,
   "nav_menu": {},
   "number_sections": true,
   "sideBar": true,
   "skip_h1_title": false,
   "title_cell": "Table of Contents",
   "title_sidebar": "Contents",
   "toc_cell": false,
   "toc_position": {},
   "toc_section_display": true,
   "toc_window_display": false
  }
 },
 "nbformat": 4,
 "nbformat_minor": 4
}
